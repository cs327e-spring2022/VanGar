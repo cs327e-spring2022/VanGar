{
 "cells": [
  {
   "cell_type": "markdown",
   "metadata": {},
   "source": [
    "### 1) Set environment variables:"
   ]
  },
  {
   "cell_type": "code",
   "execution_count": 1,
   "metadata": {},
   "outputs": [
    {
     "name": "stdout",
     "output_type": "stream",
     "text": [
      "env: PGINSTANCE=pg3\n"
     ]
    }
   ],
   "source": [
    "%env PGINSTANCE=pg3"
   ]
  },
  {
   "cell_type": "code",
   "execution_count": 2,
   "metadata": {},
   "outputs": [
    {
     "name": "stdout",
     "output_type": "stream",
     "text": [
      "env: BASE_DIR=/home/jupyter\n"
     ]
    }
   ],
   "source": [
    "%env BASE_DIR=/home/jupyter"
   ]
  },
  {
   "cell_type": "markdown",
   "metadata": {},
   "source": [
    "### 2) Download Shopify data and code:"
   ]
  },
  {
   "cell_type": "code",
   "execution_count": 3,
   "metadata": {},
   "outputs": [
    {
     "name": "stdout",
     "output_type": "stream",
     "text": [
      "Copying gs://cs327e-open-access/postgres_shopify.zip...\n",
      "/ [1 files][  3.2 MiB/  3.2 MiB]                                                \n",
      "Operation completed over 1 objects/3.2 MiB.                                      \n"
     ]
    }
   ],
   "source": [
    "!gsutil cp gs://cs327e-open-access/postgres_shopify.zip $BASE_DIR"
   ]
  },
  {
   "cell_type": "code",
   "execution_count": 4,
   "metadata": {},
   "outputs": [],
   "source": [
    "# !unzip $BASE_DIR/postgres_shopify.zip"
   ]
  },
  {
   "cell_type": "markdown",
   "metadata": {},
   "source": [
    "### 3) Create the shopify tables"
   ]
  },
  {
   "cell_type": "code",
   "execution_count": 5,
   "metadata": {},
   "outputs": [
    {
     "name": "stdout",
     "output_type": "stream",
     "text": [
      "psql:/home/jupyter/postgres_shopify/create_postgres_tables.sql:1: NOTICE:  drop cascades to 7 other objects\n",
      "DETAIL:  drop cascades to table shopify.apps\n",
      "drop cascades to table shopify.apps_categories\n",
      "drop cascades to table shopify.categories\n",
      "drop cascades to table shopify.key_benefits\n",
      "drop cascades to table shopify.pricing_plans\n",
      "drop cascades to table shopify.pricing_plan_features\n",
      "drop cascades to table shopify.reviews\n",
      "DROP SCHEMA\n",
      "CREATE SCHEMA\n",
      "SET\n",
      "CREATE TABLE\n",
      "CREATE TABLE\n",
      "CREATE TABLE\n",
      "CREATE TABLE\n",
      "CREATE TABLE\n",
      "CREATE TABLE\n",
      "CREATE TABLE\n"
     ]
    }
   ],
   "source": [
    "!psql -c \"\\i $BASE_DIR/postgres_shopify/create_postgres_tables.sql\""
   ]
  },
  {
   "cell_type": "markdown",
   "metadata": {},
   "source": [
    "### 4) Describe the tables"
   ]
  },
  {
   "cell_type": "code",
   "execution_count": 6,
   "metadata": {},
   "outputs": [
    {
     "name": "stdout",
     "output_type": "stream",
     "text": [
      "                           Table \"shopify.apps\"\n",
      "     Column     |          Type           | Collation | Nullable | Default \n",
      "----------------+-------------------------+-----------+----------+---------\n",
      " id             | character(36)           |           | not null | \n",
      " url            | character varying(1000) |           |          | \n",
      " title          | character varying(2000) |           |          | \n",
      " developer      | character varying(100)  |           |          | \n",
      " developer_link | character varying(1000) |           |          | \n",
      " icon           | character varying(1000) |           |          | \n",
      " rating         | double precision        |           |          | \n",
      " reviews_count  | integer                 |           |          | \n",
      "Indexes:\n",
      "    \"apps_pkey\" PRIMARY KEY, btree (id)\n",
      "\n"
     ]
    }
   ],
   "source": [
    "!psql -c \"\\d shopify.apps\""
   ]
  },
  {
   "cell_type": "code",
   "execution_count": 7,
   "metadata": {},
   "outputs": [
    {
     "name": "stdout",
     "output_type": "stream",
     "text": [
      "               Table \"shopify.apps_categories\"\n",
      "   Column    |     Type      | Collation | Nullable | Default \n",
      "-------------+---------------+-----------+----------+---------\n",
      " app_id      | character(36) |           | not null | \n",
      " category_id | character(36) |           | not null | \n",
      "Indexes:\n",
      "    \"apps_categories_pkey\" PRIMARY KEY, btree (app_id, category_id)\n",
      "\n"
     ]
    }
   ],
   "source": [
    "!psql -c \"\\d shopify.apps_categories\""
   ]
  },
  {
   "cell_type": "code",
   "execution_count": 8,
   "metadata": {},
   "outputs": [
    {
     "name": "stdout",
     "output_type": "stream",
     "text": [
      "                    Table \"shopify.categories\"\n",
      " Column |          Type           | Collation | Nullable | Default \n",
      "--------+-------------------------+-----------+----------+---------\n",
      " id     | character(36)           |           | not null | \n",
      " title  | character varying(2000) |           |          | \n",
      "Indexes:\n",
      "    \"categories_pkey\" PRIMARY KEY, btree (id)\n",
      "\n"
     ]
    }
   ],
   "source": [
    "!psql -c \"\\d shopify.categories\""
   ]
  },
  {
   "cell_type": "code",
   "execution_count": 9,
   "metadata": {},
   "outputs": [
    {
     "name": "stdout",
     "output_type": "stream",
     "text": [
      "                      Table \"shopify.key_benefits\"\n",
      "   Column    |          Type           | Collation | Nullable | Default \n",
      "-------------+-------------------------+-----------+----------+---------\n",
      " app_id      | character(36)           |           | not null | \n",
      " title       | character varying(2000) |           | not null | \n",
      " description | character varying(2000) |           |          | \n",
      "Indexes:\n",
      "    \"key_benefits_pkey\" PRIMARY KEY, btree (app_id, title)\n",
      "\n"
     ]
    }
   ],
   "source": [
    "!psql -c \"\\d shopify.key_benefits\""
   ]
  },
  {
   "cell_type": "code",
   "execution_count": 10,
   "metadata": {},
   "outputs": [
    {
     "name": "stdout",
     "output_type": "stream",
     "text": [
      "                   Table \"shopify.pricing_plan_features\"\n",
      "     Column      |          Type           | Collation | Nullable | Default \n",
      "-----------------+-------------------------+-----------+----------+---------\n",
      " pricing_plan_id | character(36)           |           | not null | \n",
      " app_id          | character(36)           |           | not null | \n",
      " feature         | character varying(2000) |           | not null | \n",
      "Indexes:\n",
      "    \"pricing_plan_features_pkey\" PRIMARY KEY, btree (pricing_plan_id, app_id, feature)\n",
      "\n"
     ]
    }
   ],
   "source": [
    "!psql -c \"\\d shopify.pricing_plan_features\""
   ]
  },
  {
   "cell_type": "code",
   "execution_count": 11,
   "metadata": {},
   "outputs": [
    {
     "name": "stdout",
     "output_type": "stream",
     "text": [
      "                       Table \"shopify.reviews\"\n",
      "  Column   |          Type          | Collation | Nullable | Default \n",
      "-----------+------------------------+-----------+----------+---------\n",
      " app_id    | character(36)          |           | not null | \n",
      " author    | character varying(250) |           | not null | \n",
      " rating    | integer                |           |          | \n",
      " posted_at | date                   |           |          | \n",
      "Indexes:\n",
      "    \"reviews_pkey\" PRIMARY KEY, btree (app_id, author)\n",
      "\n"
     ]
    }
   ],
   "source": [
    "!psql -c \"\\d shopify.reviews\""
   ]
  },
  {
   "cell_type": "code",
   "execution_count": 12,
   "metadata": {},
   "outputs": [
    {
     "name": "stdout",
     "output_type": "stream",
     "text": [
      "                  Table \"shopify.pricing_plans\"\n",
      " Column |          Type          | Collation | Nullable | Default \n",
      "--------+------------------------+-----------+----------+---------\n",
      " id     | character(36)          |           | not null | \n",
      " app_id | character(36)          |           |          | \n",
      " title  | character varying(200) |           |          | \n",
      " price  | double precision       |           |          | \n",
      "Indexes:\n",
      "    \"pricing_plans_pkey\" PRIMARY KEY, btree (id)\n",
      "\n"
     ]
    }
   ],
   "source": [
    "!psql -c \"\\d shopify.pricing_plans\""
   ]
  },
  {
   "cell_type": "markdown",
   "metadata": {},
   "source": [
    "### 5. Populate the tables"
   ]
  },
  {
   "cell_type": "code",
   "execution_count": 13,
   "metadata": {},
   "outputs": [
    {
     "name": "stdout",
     "output_type": "stream",
     "text": [
      "Importing data into Cloud SQL instance...done.                                 \n",
      "Imported data from [gs://cs327e-open-access/postgres_shopify/apps.csv] into [https://sqladmin.googleapis.com/sql/v1beta4/projects/vaulted-dolphin-339503/instances/pg3].\n"
     ]
    }
   ],
   "source": [
    "!gcloud sql import csv $PGINSTANCE gs://cs327e-open-access/postgres_shopify/apps.csv --database=postgres --table=shopify.apps --quiet\n"
   ]
  },
  {
   "cell_type": "code",
   "execution_count": 14,
   "metadata": {},
   "outputs": [
    {
     "name": "stdout",
     "output_type": "stream",
     "text": [
      "Importing data into Cloud SQL instance...done.                                 \n",
      "Imported data from [gs://cs327e-open-access/postgres_shopify/apps_categories.csv] into [https://sqladmin.googleapis.com/sql/v1beta4/projects/vaulted-dolphin-339503/instances/pg3].\n"
     ]
    }
   ],
   "source": [
    "!gcloud sql import csv $PGINSTANCE gs://cs327e-open-access/postgres_shopify/apps_categories.csv --database=postgres --table=shopify.apps_categories --quiet\n"
   ]
  },
  {
   "cell_type": "code",
   "execution_count": 15,
   "metadata": {},
   "outputs": [
    {
     "name": "stdout",
     "output_type": "stream",
     "text": [
      "Importing data into Cloud SQL instance...done.                                 \n",
      "Imported data from [gs://cs327e-open-access/postgres_shopify/categories.csv] into [https://sqladmin.googleapis.com/sql/v1beta4/projects/vaulted-dolphin-339503/instances/pg3].\n"
     ]
    }
   ],
   "source": [
    "!gcloud sql import csv $PGINSTANCE gs://cs327e-open-access/postgres_shopify/categories.csv --database=postgres --table=shopify.categories --quiet\n"
   ]
  },
  {
   "cell_type": "code",
   "execution_count": 16,
   "metadata": {},
   "outputs": [
    {
     "name": "stdout",
     "output_type": "stream",
     "text": [
      "Importing data into Cloud SQL instance...done.                                 \n",
      "Imported data from [gs://cs327e-open-access/postgres_shopify/key_benefits.csv] into [https://sqladmin.googleapis.com/sql/v1beta4/projects/vaulted-dolphin-339503/instances/pg3].\n"
     ]
    }
   ],
   "source": [
    "!gcloud sql import csv $PGINSTANCE gs://cs327e-open-access/postgres_shopify/key_benefits.csv --database=postgres --table=shopify.key_benefits --quiet\n"
   ]
  },
  {
   "cell_type": "code",
   "execution_count": 17,
   "metadata": {},
   "outputs": [
    {
     "name": "stdout",
     "output_type": "stream",
     "text": [
      "Importing data into Cloud SQL instance...done.                                 \n",
      "Imported data from [gs://cs327e-open-access/postgres_shopify/pricing_plans.csv] into [https://sqladmin.googleapis.com/sql/v1beta4/projects/vaulted-dolphin-339503/instances/pg3].\n"
     ]
    }
   ],
   "source": [
    "!gcloud sql import csv $PGINSTANCE gs://cs327e-open-access/postgres_shopify/pricing_plans.csv --database=postgres --table=shopify.pricing_plans --quiet\n"
   ]
  },
  {
   "cell_type": "code",
   "execution_count": 18,
   "metadata": {},
   "outputs": [
    {
     "name": "stdout",
     "output_type": "stream",
     "text": [
      "Importing data into Cloud SQL instance...done.                                 \n",
      "Imported data from [gs://cs327e-open-access/postgres_shopify/pricing_plan_features.csv] into [https://sqladmin.googleapis.com/sql/v1beta4/projects/vaulted-dolphin-339503/instances/pg3].\n"
     ]
    }
   ],
   "source": [
    "!gcloud sql import csv $PGINSTANCE gs://cs327e-open-access/postgres_shopify/pricing_plan_features.csv --database=postgres --table=shopify.pricing_plan_features --quiet\n"
   ]
  },
  {
   "cell_type": "code",
   "execution_count": 19,
   "metadata": {},
   "outputs": [
    {
     "name": "stdout",
     "output_type": "stream",
     "text": [
      "Importing data into Cloud SQL instance...done.                                 \n",
      "Imported data from [gs://cs327e-open-access/postgres_shopify/reviews.csv] into [https://sqladmin.googleapis.com/sql/v1beta4/projects/vaulted-dolphin-339503/instances/pg3].\n"
     ]
    }
   ],
   "source": [
    "!gcloud sql import csv $PGINSTANCE gs://cs327e-open-access/postgres_shopify/reviews.csv --database=postgres --table=shopify.reviews --quiet\n"
   ]
  },
  {
   "cell_type": "markdown",
   "metadata": {},
   "source": [
    "### 5. Get a record count for each table"
   ]
  },
  {
   "cell_type": "code",
   "execution_count": 20,
   "metadata": {},
   "outputs": [
    {
     "name": "stdout",
     "output_type": "stream",
     "text": [
      " count \n",
      "-------\n",
      "  3547\n",
      "(1 row)\n",
      "\n"
     ]
    }
   ],
   "source": [
    "!psql -c \"select count(*) from shopify.apps\""
   ]
  },
  {
   "cell_type": "code",
   "execution_count": 21,
   "metadata": {},
   "outputs": [
    {
     "name": "stdout",
     "output_type": "stream",
     "text": [
      " count \n",
      "-------\n",
      "  5383\n",
      "(1 row)\n",
      "\n"
     ]
    }
   ],
   "source": [
    "!psql -c \"select count(*) from shopify.apps_categories\""
   ]
  },
  {
   "cell_type": "code",
   "execution_count": 22,
   "metadata": {},
   "outputs": [
    {
     "name": "stdout",
     "output_type": "stream",
     "text": [
      " count \n",
      "-------\n",
      "    12\n",
      "(1 row)\n",
      "\n"
     ]
    }
   ],
   "source": [
    "!psql -c \"select count(*) from shopify.categories\""
   ]
  },
  {
   "cell_type": "code",
   "execution_count": 23,
   "metadata": {},
   "outputs": [
    {
     "name": "stdout",
     "output_type": "stream",
     "text": [
      " count \n",
      "-------\n",
      "  9541\n",
      "(1 row)\n",
      "\n"
     ]
    }
   ],
   "source": [
    "!psql -c \"select count(*) from shopify.key_benefits\""
   ]
  },
  {
   "cell_type": "code",
   "execution_count": 24,
   "metadata": {},
   "outputs": [
    {
     "name": "stdout",
     "output_type": "stream",
     "text": [
      " count \n",
      "-------\n",
      " 16270\n",
      "(1 row)\n",
      "\n"
     ]
    }
   ],
   "source": [
    "!psql -c \"select count(*) from shopify.pricing_plan_features\""
   ]
  },
  {
   "cell_type": "code",
   "execution_count": 25,
   "metadata": {},
   "outputs": [
    {
     "name": "stdout",
     "output_type": "stream",
     "text": [
      " count \n",
      "-------\n",
      "  6275\n",
      "(1 row)\n",
      "\n"
     ]
    }
   ],
   "source": [
    "!psql -c \"select count(*) from shopify.pricing_plans\""
   ]
  },
  {
   "cell_type": "code",
   "execution_count": 26,
   "metadata": {},
   "outputs": [
    {
     "name": "stdout",
     "output_type": "stream",
     "text": [
      " count  \n",
      "--------\n",
      " 124601\n",
      "(1 row)\n",
      "\n"
     ]
    }
   ],
   "source": [
    "!psql -c \"select count(*) from shopify.reviews\""
   ]
  },
  {
   "cell_type": "markdown",
   "metadata": {},
   "source": [
    "### 6. Sample the tables"
   ]
  },
  {
   "cell_type": "code",
   "execution_count": 27,
   "metadata": {},
   "outputs": [
    {
     "name": "stdout",
     "output_type": "stream",
     "text": [
      "                  id                  |                         url                         |             title             |         developer          |                        developer_link                        |                                                                   icon                                                                   | rating | reviews_count \n",
      "--------------------------------------+-----------------------------------------------------+-------------------------------+----------------------------+--------------------------------------------------------------+------------------------------------------------------------------------------------------------------------------------------------------+--------+---------------\n",
      " 683d06af-14c7-4733-9bde-ec5b699af886 | https://apps.shopify.com/facebook-store             | Facebook Shop channel         | Shopify                    | https://apps.shopify.com/partners/shopify                    | https://apps.shopifycdn.com/listing_images/d89827eee683b30743dab8a8c3a4c56f/icon/dd3e663d67c894a34a325ea819404950.png?height=84&width=84 |    2.5 |           542\n",
      " 562a0052-f1de-4919-896f-546e453f33cd | https://apps.shopify.com/mailerlite-email-marketing | MailerLite Email Marketing    | MailerLite                 | https://apps.shopify.com/partners/ml-newsletters             | https://apps.shopifycdn.com/listing_images/d2555aedca494035e9b9d9858d099a54/icon/683e7a27f031a872269521e7b111c1f1.png?height=84&width=84 |      3 |            49\n",
      " c35c71f4-eeb3-4ff8-856a-f7e2b89aca32 | https://apps.shopify.com/syncommerce                | SynCommerce                   | Mavericks Technologies Ltd | https://apps.shopify.com/partners/mavericks-technologies-ltd | https://apps.shopifycdn.com/listing_images/3cd18d1611d08c8929f8075714568dae/icon/cd4f6576761844c4ddd5b5c1d030aa36.png?height=84&width=84 |      3 |            81\n",
      " 7a282c82-620e-4b4b-955a-e91a2fbb0d9e | https://apps.shopify.com/wanelo                     | Wanelo                        | Wanelo                     | https://apps.shopify.com/partners/wanelo                     | https://apps.shopifycdn.com/listing_images/dfa55da6d6d34532879d7ac598377529/icon/f4ead108b5fd2b4b469105f4b27c6dae.png?height=84&width=84 |      3 |           190\n",
      " befdf234-4b61-474b-b0b8-bf6dc59db2be | https://apps.shopify.com/adroll-retargeting         | AdRoll Ads & Retargeting      | AdRoll                     | https://apps.shopify.com/partners/adroll                     | https://apps.shopifycdn.com/listing_images/6ebaf39a3592a11d95d4436f522e6bc0/icon/007f106ab4a5209c3560c749e94c6990.png?height=84&width=84 |    3.5 |           132\n",
      " fc4456a8-ed08-4b9a-8fcb-2cb4563fbac2 | https://apps.shopify.com/slider-app-by-hulkapps     | Image Slider & Hero Banner    | HulkApps.com               | https://apps.shopify.com/partners/hulk-code                  | https://apps.shopifycdn.com/listing_images/b615ad79a257362bf563dc990736a75d/icon/f6713fdb379be502586ad25defa52a20.png?height=84&width=84 |    3.5 |            44\n",
      " bb04a615-7645-4ddc-a1fd-ed6fef501a0d | https://apps.shopify.com/affiliate                  | AAA ‑ Affiliate Marketing PRO | AAAeCommerce Inc           | https://apps.shopify.com/partners/aaawebstore                | https://apps.shopifycdn.com/listing_images/b40df7fe45d61bc27de4de04cf83cbae/icon/a9254e3723c0c60e3bc7093d077aa587.png?height=84&width=84 |    3.5 |            34\n",
      "(7 rows)\n",
      "\n"
     ]
    }
   ],
   "source": [
    "!psql -c \"select * from shopify.apps limit 7\""
   ]
  },
  {
   "cell_type": "code",
   "execution_count": 28,
   "metadata": {},
   "outputs": [
    {
     "name": "stdout",
     "output_type": "stream",
     "text": [
      "                app_id                |             category_id              \n",
      "--------------------------------------+--------------------------------------\n",
      " 94e751e2-eb8f-42c1-810d-bddb71ed6cbd | 26a72de0d02e0e4e5f615332d61a878e    \n",
      " 43850ba2-302f-40cc-8140-5835f2fe7a1b | 26a72de0d02e0e4e5f615332d61a878e    \n",
      " 4c0d0351-6764-4332-b1e4-caa746b3eca9 | 26a72de0d02e0e4e5f615332d61a878e    \n",
      " 9b4045ac-dff1-4933-9cb6-6a9cb6a0bf65 | 26a72de0d02e0e4e5f615332d61a878e    \n",
      " dcd5271f-0ccf-4822-84f6-4b38208bf6ef | 26a72de0d02e0e4e5f615332d61a878e    \n",
      " c7a86427-c015-4b1f-92e2-6b0aa2151070 | 26a72de0d02e0e4e5f615332d61a878e    \n",
      " da63498e-5d98-44a6-9f28-f43e53457be7 | 26a72de0d02e0e4e5f615332d61a878e    \n",
      "(7 rows)\n",
      "\n"
     ]
    }
   ],
   "source": [
    "!psql -c \"select * from shopify.apps_categories limit 7\""
   ]
  },
  {
   "cell_type": "code",
   "execution_count": 29,
   "metadata": {},
   "outputs": [
    {
     "name": "stdout",
     "output_type": "stream",
     "text": [
      "                  id                  |               title               \n",
      "--------------------------------------+-----------------------------------\n",
      " 64430ad2835be8ad60c59e7d44e4b0b1     | Customer support\n",
      " 737ad50051083aa051d127a53b3ac0da     | Productivity\n",
      " 30a930262efca129caafcd586bc7e6fe     | Places to sell\n",
      " 30ea2315e910c5e5335de42d5e87dca5     | Orders and shipping\n",
      " c769c2bd15500dd906102d9be97fdceb     | Marketing\n",
      " 26a72de0d02e0e4e5f615332d61a878e     | Finances\n",
      " 5eb4e29e50e3f178acc614236ed107f4     | Sales and conversion optimization\n",
      "(7 rows)\n",
      "\n"
     ]
    }
   ],
   "source": [
    "!psql -c \"select * from shopify.categories limit 7\""
   ]
  },
  {
   "cell_type": "code",
   "execution_count": 30,
   "metadata": {},
   "outputs": [
    {
     "name": "stdout",
     "output_type": "stream",
     "text": [
      "                app_id                |             title              |                                                                 description                                                                  \n",
      "--------------------------------------+--------------------------------+----------------------------------------------------------------------------------------------------------------------------------------------\n",
      " 00289a9f-9f12-45b1-963b-67e78403f7c7 | Improve order size             | Increase your Sales and Order Size\n",
      " 00289a9f-9f12-45b1-963b-67e78403f7c7 | Multiple Upsells and Triggers  | After Add to Cart, Checkout Popup, or Exit Intent\n",
      " 00289a9f-9f12-45b1-963b-67e78403f7c7 | Add more products to cart      | Upsell and Cross-Sell Popups\n",
      " 00312cea-3595-4d65-a60d-6e8e5b7d6897 | Best-in-class website security | Protect your Shopify store with best-in-class security. New Shop Protector Plus available to invisibly block bots in background (read more).\n",
      " 00312cea-3595-4d65-a60d-6e8e5b7d6897 | Guards against account fraud   | Your Shopify store traffic is analyzed in real time to protect against fake account creation and potentially fraudulent activity.\n",
      " 00312cea-3595-4d65-a60d-6e8e5b7d6897 | Eliminates annoying form spam  | Shop Protector prevents bots from filling out forms. Stop those annoying contact form and newsletter sign-up spam submissions.\n",
      " 003b3dbd-1295-48cb-a3e8-8f3a0e8fc6df | Reduce shopping time           | Reduce shopping time, and improve customer experience. Increase your sales.\n",
      "(7 rows)\n",
      "\n"
     ]
    }
   ],
   "source": [
    "!psql -c \"select * from shopify.key_benefits limit 7\""
   ]
  },
  {
   "cell_type": "code",
   "execution_count": 31,
   "metadata": {},
   "outputs": [
    {
     "name": "stdout",
     "output_type": "stream",
     "text": [
      "                  id                  |                app_id                |      title      | price \n",
      "--------------------------------------+--------------------------------------+-----------------+-------\n",
      " 89c9f488-de5e-4eed-b8d6-f928373f39a9 | 6afe1c17-a42c-4efd-ac2e-583eedd27c02 | Partner         |     0\n",
      " c8571997-f0c5-4947-a60e-aeb32357bd19 | 75c8cf82-20c3-40e4-8433-3fd3b3ff6e16 | 1 store (Basic) |     0\n",
      " 52056a87-7c25-4178-ac3a-90f9ef5a880c | b26d38b3-89fb-453b-9b74-253a679d134d | Try-out         |     0\n",
      " 8af97ca6-8943-4622-97e3-e6a9506ade7e | 068d655d-3236-4b6b-acea-0f8847b2e4f8 | ALWAYS FREE     |     0\n",
      " 292a6d03-0e7e-4428-99b1-6d7db43bc984 | b22d2154-90b5-4c67-b79d-95df2d81628f | Startup         |     0\n",
      " 8e56b220-ec67-47e5-a8af-4079822ae8c0 | 492592d8-7bf1-4028-b956-813348cabc5d | Bronze          |     0\n",
      " 3e857e28-b50f-484b-9616-fc10ec70fa4e | bede3965-7dd4-448c-8329-c1bf84c5913d | Demo            |     0\n",
      "(7 rows)\n",
      "\n"
     ]
    }
   ],
   "source": [
    "!psql -c \"select * from shopify.pricing_plans limit 7\""
   ]
  },
  {
   "cell_type": "code",
   "execution_count": 32,
   "metadata": {},
   "outputs": [
    {
     "name": "stdout",
     "output_type": "stream",
     "text": [
      "           pricing_plan_id            |                app_id                |                feature                 \n",
      "--------------------------------------+--------------------------------------+----------------------------------------\n",
      " 746bc28d-5bc5-42cb-9d59-1b19c9a8301d | 00312cea-3595-4d65-a60d-6e8e5b7d6897 | Reduce Bot-Based Fraud\n",
      " 746bc28d-5bc5-42cb-9d59-1b19c9a8301d | 00312cea-3595-4d65-a60d-6e8e5b7d6897 | Bulk Cancel Orders\n",
      " 746bc28d-5bc5-42cb-9d59-1b19c9a8301d | 00312cea-3595-4d65-a60d-6e8e5b7d6897 | Configurable Rules for Auto-mitigation\n",
      " 746bc28d-5bc5-42cb-9d59-1b19c9a8301d | 00312cea-3595-4d65-a60d-6e8e5b7d6897 | Checkout Protection\n",
      " 746bc28d-5bc5-42cb-9d59-1b19c9a8301d | 00312cea-3595-4d65-a60d-6e8e5b7d6897 | (Includes all SP Basic Features...)\n",
      " 8215de67-2fbe-4504-885e-ab1aff7fa31a | 00312cea-3595-4d65-a60d-6e8e5b7d6897 | Fake Account Prevention\n",
      " 8215de67-2fbe-4504-885e-ab1aff7fa31a | 00312cea-3595-4d65-a60d-6e8e5b7d6897 | Form Spam Protection\n",
      "(7 rows)\n",
      "\n"
     ]
    }
   ],
   "source": [
    "!psql -c \"select * from shopify.pricing_plan_features limit 7\""
   ]
  },
  {
   "cell_type": "code",
   "execution_count": 33,
   "metadata": {},
   "outputs": [
    {
     "name": "stdout",
     "output_type": "stream",
     "text": [
      "                app_id                |         author         | rating | posted_at  \n",
      "--------------------------------------+------------------------+--------+------------\n",
      " 00289a9f-9f12-45b1-963b-67e78403f7c7 | Hellobeanies           |      5 | 2017-09-01\n",
      " 00289a9f-9f12-45b1-963b-67e78403f7c7 | Pdmovie                |      1 | 2016-10-09\n",
      " 00289a9f-9f12-45b1-963b-67e78403f7c7 | Mommymakeup            |      1 | 2016-11-17\n",
      " 00289a9f-9f12-45b1-963b-67e78403f7c7 | The King Herb Enhancer |      5 | 2016-12-01\n",
      " 00289a9f-9f12-45b1-963b-67e78403f7c7 | Training Top           |      4 | 2018-05-02\n",
      " 005d6c7a-9eb9-4b35-bdd4-040d383e86cf | Natural Vegan          |      5 | 2019-11-15\n",
      " 005d6c7a-9eb9-4b35-bdd4-040d383e86cf | Munchiecat             |      5 | 2019-08-20\n",
      "(7 rows)\n",
      "\n"
     ]
    }
   ],
   "source": [
    "!psql -c \"select * from shopify.reviews limit 7\""
   ]
  },
  {
   "cell_type": "markdown",
   "metadata": {},
   "source": [
    "### Prompt 1: Create the Foreign Keys\n",
    "#### Hint: `alter table shopify.apps_categories add foreign key (app_id) REFERENCES shopify.apps (id);`"
   ]
  },
  {
   "cell_type": "code",
   "execution_count": 34,
   "metadata": {},
   "outputs": [
    {
     "name": "stdout",
     "output_type": "stream",
     "text": [
      "ALTER TABLE\n"
     ]
    }
   ],
   "source": [
    "!psql -c \"alter table shopify.apps_categories add foreign key (app_id) references shopify.apps (id)\""
   ]
  },
  {
   "cell_type": "code",
   "execution_count": 35,
   "metadata": {},
   "outputs": [
    {
     "name": "stdout",
     "output_type": "stream",
     "text": [
      "ALTER TABLE\n"
     ]
    }
   ],
   "source": [
    "!psql -c \"alter table shopify.reviews add foreign key (app_id) references shopify.apps (id)\""
   ]
  },
  {
   "cell_type": "code",
   "execution_count": 36,
   "metadata": {},
   "outputs": [
    {
     "name": "stdout",
     "output_type": "stream",
     "text": [
      "ALTER TABLE\n"
     ]
    }
   ],
   "source": [
    "!psql -c \"alter table shopify.pricing_plan_features add foreign key (app_id) references shopify.apps (id)\""
   ]
  },
  {
   "cell_type": "code",
   "execution_count": 37,
   "metadata": {},
   "outputs": [
    {
     "name": "stdout",
     "output_type": "stream",
     "text": [
      "ALTER TABLE\n"
     ]
    }
   ],
   "source": [
    "!psql -c \"alter table shopify.pricing_plans add foreign key (app_id) references shopify.apps (id)\""
   ]
  },
  {
   "cell_type": "code",
   "execution_count": 38,
   "metadata": {},
   "outputs": [
    {
     "name": "stdout",
     "output_type": "stream",
     "text": [
      "ALTER TABLE\n"
     ]
    }
   ],
   "source": [
    "!psql -c \"alter table shopify.key_benefits add foreign key (app_id) references shopify.apps (id)\""
   ]
  },
  {
   "cell_type": "code",
   "execution_count": 39,
   "metadata": {},
   "outputs": [
    {
     "name": "stdout",
     "output_type": "stream",
     "text": [
      "ALTER TABLE\n"
     ]
    }
   ],
   "source": [
    "!psql -c \"alter table shopify.pricing_plan_features add foreign key (pricing_plan_id) references shopify.pricing_plans (id)\""
   ]
  },
  {
   "cell_type": "code",
   "execution_count": 40,
   "metadata": {},
   "outputs": [
    {
     "name": "stdout",
     "output_type": "stream",
     "text": [
      "ALTER TABLE\n"
     ]
    }
   ],
   "source": [
    "!psql -c \"alter table shopify.apps_categories add foreign key (category_id) references shopify.categories (id)\""
   ]
  },
  {
   "cell_type": "markdown",
   "metadata": {},
   "source": [
    "### 7. Run in a transaction:\n",
    "#### Insert a new Shopify app"
   ]
  },
  {
   "cell_type": "code",
   "execution_count": 41,
   "metadata": {},
   "outputs": [
    {
     "name": "stdout",
     "output_type": "stream",
     "text": [
      "SET\n",
      "BEGIN\n",
      "INSERT 0 1\n",
      "INSERT 0 1\n",
      "INSERT 0 1\n",
      "INSERT 0 1\n",
      "INSERT 0 1\n",
      "COMMIT\n"
     ]
    }
   ],
   "source": [
    "!psql -c \"\\i $BASE_DIR/postgres_shopify/insert_tx.sql\""
   ]
  },
  {
   "cell_type": "markdown",
   "metadata": {},
   "source": [
    "### Prompt 2: Run in a transaction\n",
    "#### 1) Get a record count of the pricing plans whose price > 0. \n",
    "#### 2) In a transaction, perform the following logic:\n",
    "#####    -update pricing plans to half of their price value if their price > 0. \n",
    "#####    -update the title of the pricing plans whose price > 0 by adding the suffix ' Half Price' to the current title. Use the `concat(str1, str2)` function to update the title. "
   ]
  },
  {
   "cell_type": "code",
   "execution_count": 42,
   "metadata": {},
   "outputs": [
    {
     "name": "stdout",
     "output_type": "stream",
     "text": [
      " count \n",
      "-------\n",
      "  4780\n",
      "(1 row)\n",
      "\n"
     ]
    }
   ],
   "source": [
    "!psql -c \"select count(*) from shopify.pricing_plans where price > 0\""
   ]
  },
  {
   "cell_type": "code",
   "execution_count": 43,
   "metadata": {},
   "outputs": [
    {
     "name": "stdout",
     "output_type": "stream",
     "text": [
      "SET\n",
      "BEGIN\n",
      "UPDATE 4780\n",
      "UPDATE 4780\n",
      "COMMIT\n"
     ]
    }
   ],
   "source": [
    "!psql -c \"\\i $BASE_DIR/postgres_shopify/update_tx.sql\""
   ]
  },
  {
   "cell_type": "markdown",
   "metadata": {},
   "source": [
    "### Prompt 3: Run in a transaction\n",
    "#### Delete the Shopify apps record for id = '683d06af-14c7-4733-9bde-ec5b699af996' and all of its related records. Hint: you should be deleting records from 5 tables. "
   ]
  },
  {
   "cell_type": "code",
   "execution_count": 69,
   "metadata": {},
   "outputs": [
    {
     "name": "stdout",
     "output_type": "stream",
     "text": [
      "DELETE 0\n"
     ]
    }
   ],
   "source": [
    "!psql -c \"delete from shopify.reviews where app_id = '683d06af-14c7-4733-9bde-ec5b699af996'\""
   ]
  },
  {
   "cell_type": "code",
   "execution_count": 68,
   "metadata": {},
   "outputs": [
    {
     "name": "stdout",
     "output_type": "stream",
     "text": [
      "DELETE 0\n"
     ]
    }
   ],
   "source": [
    "!psql -c \"delete from shopify.apps_categories where app_id = '683d06af-14c7-4733-9bde-ec5b699af996'\""
   ]
  },
  {
   "cell_type": "code",
   "execution_count": 70,
   "metadata": {},
   "outputs": [
    {
     "name": "stdout",
     "output_type": "stream",
     "text": [
      "DELETE 1\n"
     ]
    }
   ],
   "source": [
    "!psql -c \"delete from shopify.pricing_plan_features where app_id = '683d06af-14c7-4733-9bde-ec5b699af996'\""
   ]
  },
  {
   "cell_type": "code",
   "execution_count": 72,
   "metadata": {},
   "outputs": [
    {
     "name": "stdout",
     "output_type": "stream",
     "text": [
      "DELETE 1\n"
     ]
    }
   ],
   "source": [
    "!psql -c \"delete from shopify.pricing_plans where app_id = '683d06af-14c7-4733-9bde-ec5b699af996'\""
   ]
  },
  {
   "cell_type": "code",
   "execution_count": 73,
   "metadata": {},
   "outputs": [
    {
     "name": "stdout",
     "output_type": "stream",
     "text": [
      "DELETE 1\n"
     ]
    }
   ],
   "source": [
    "!psql -c \"delete from shopify.key_benefits where app_id = '683d06af-14c7-4733-9bde-ec5b699af996'\""
   ]
  },
  {
   "cell_type": "code",
   "execution_count": 74,
   "metadata": {},
   "outputs": [
    {
     "name": "stdout",
     "output_type": "stream",
     "text": [
      "SET\n",
      "BEGIN\n",
      "DELETE 0\n",
      "DELETE 0\n",
      "DELETE 0\n",
      "DELETE 0\n",
      "DELETE 1\n",
      "COMMIT\n"
     ]
    }
   ],
   "source": [
    "!psql -c \"\\i $BASE_DIR/postgres_shopify/delete_tx.sql\""
   ]
  },
  {
   "cell_type": "markdown",
   "metadata": {},
   "source": [
    "### 8. Create an index to speed up the query:\n",
    "`select * from shopify.apps a join shopify.reviews r on a.id = r.app_id where a.rating >= 5.0 and r.author = 'Funky Moose Records';`\n",
    "#### Test your index using `explain` and time the query using `\\timing` in psql"
   ]
  },
  {
   "cell_type": "code",
   "execution_count": 45,
   "metadata": {},
   "outputs": [
    {
     "name": "stdout",
     "output_type": "stream",
     "text": [
      "                               QUERY PLAN                               \n",
      "------------------------------------------------------------------------\n",
      " Hash Join  (cost=212.25..1810.64 rows=21 width=986)\n",
      "   Hash Cond: (r.app_id = a.id)\n",
      "   ->  Seq Scan on reviews r  (cost=0.00..1598.19 rows=77 width=672)\n",
      "         Filter: ((author)::text = 'Funky Moose Records'::text)\n",
      "   ->  Hash  (cost=200.34..200.34 rows=953 width=314)\n",
      "         ->  Seq Scan on apps a  (cost=0.00..200.34 rows=953 width=314)\n",
      "               Filter: (rating >= '5'::double precision)\n",
      "(7 rows)\n",
      "\n"
     ]
    }
   ],
   "source": [
    "!psql -c \"explain select * from shopify.apps a join shopify.reviews r on a.id = r.app_id where a.rating >= 5.0 and r.author = 'Funky Moose Records'\"\n"
   ]
  },
  {
   "cell_type": "code",
   "execution_count": 46,
   "metadata": {},
   "outputs": [
    {
     "name": "stdout",
     "output_type": "stream",
     "text": [
      "CREATE INDEX\n"
     ]
    }
   ],
   "source": [
    "!psql -c \"create index reviews_author_idx on shopify.reviews(author)\""
   ]
  },
  {
   "cell_type": "code",
   "execution_count": 47,
   "metadata": {},
   "outputs": [
    {
     "name": "stdout",
     "output_type": "stream",
     "text": [
      "                                        QUERY PLAN                                        \n",
      "------------------------------------------------------------------------------------------\n",
      " Hash Join  (cost=229.50..1357.12 rows=167 width=986)\n",
      "   Hash Cond: (r.app_id = a.id)\n",
      "   ->  Bitmap Heap Scan on reviews r  (cost=17.25..1143.23 rows=623 width=672)\n",
      "         Recheck Cond: ((author)::text = 'Funky Moose Records'::text)\n",
      "         ->  Bitmap Index Scan on reviews_author_idx  (cost=0.00..17.09 rows=623 width=0)\n",
      "               Index Cond: ((author)::text = 'Funky Moose Records'::text)\n",
      "   ->  Hash  (cost=200.34..200.34 rows=953 width=314)\n",
      "         ->  Seq Scan on apps a  (cost=0.00..200.34 rows=953 width=314)\n",
      "               Filter: (rating >= '5'::double precision)\n",
      "(9 rows)\n",
      "\n"
     ]
    }
   ],
   "source": [
    "!psql -c \"explain select * from shopify.apps a join shopify.reviews r on a.id = r.app_id where a.rating >= 5.0 and r.author = 'Funky Moose Records'\""
   ]
  },
  {
   "cell_type": "code",
   "execution_count": 48,
   "metadata": {},
   "outputs": [],
   "source": [
    "#begin project3 work"
   ]
  },
  {
   "cell_type": "code",
   "execution_count": 49,
   "metadata": {},
   "outputs": [],
   "source": [
    "#insert a new record into the category table first, then apps_categories second"
   ]
  },
  {
   "cell_type": "code",
   "execution_count": 50,
   "metadata": {},
   "outputs": [
    {
     "name": "stdout",
     "output_type": "stream",
     "text": [
      "SET\n",
      "BEGIN\n",
      "INSERT 0 1\n",
      "INSERT 0 1\n",
      "COMMIT\n"
     ]
    }
   ],
   "source": [
    "!psql -c \"\\i $BASE_DIR/postgres_shopify/insert2_tx.sql\""
   ]
  },
  {
   "cell_type": "code",
   "execution_count": 51,
   "metadata": {},
   "outputs": [],
   "source": [
    "#checking to see if insert was successful"
   ]
  },
  {
   "cell_type": "code",
   "execution_count": 52,
   "metadata": {},
   "outputs": [
    {
     "name": "stdout",
     "output_type": "stream",
     "text": [
      "                  id                  |          title          \n",
      "--------------------------------------+-------------------------\n",
      " 60120ad2835be8ad60c59e7d44e4b0b1     | Supply Chain Management\n",
      "(1 row)\n",
      "\n"
     ]
    }
   ],
   "source": [
    "!psql -c \"select * from shopify.categories where id = '60120ad2835be8ad60c59e7d44e4b0b1'\""
   ]
  },
  {
   "cell_type": "code",
   "execution_count": 53,
   "metadata": {},
   "outputs": [],
   "source": [
    "#update records in apps table to reflect a new rating scale"
   ]
  },
  {
   "cell_type": "code",
   "execution_count": 54,
   "metadata": {},
   "outputs": [
    {
     "name": "stdout",
     "output_type": "stream",
     "text": [
      "SET\n",
      "BEGIN\n",
      "UPDATE 1159\n",
      "UPDATE 3548\n",
      "COMMIT\n"
     ]
    }
   ],
   "source": [
    "!psql -c \"\\i $BASE_DIR/postgres_shopify/update2_tx.sql\""
   ]
  },
  {
   "cell_type": "code",
   "execution_count": 55,
   "metadata": {},
   "outputs": [],
   "source": [
    "#checking new apps records"
   ]
  },
  {
   "cell_type": "code",
   "execution_count": 56,
   "metadata": {},
   "outputs": [
    {
     "name": "stdout",
     "output_type": "stream",
     "text": [
      "                  id                  |                          url                          |                         title                         |     developer      |                        developer_link                        |                                                                        icon                                                                         | rating | reviews_count \n",
      "--------------------------------------+-------------------------------------------------------+-------------------------------------------------------+--------------------+--------------------------------------------------------------+-----------------------------------------------------------------------------------------------------------------------------------------------------+--------+---------------\n",
      " c8e8f27c-ffbe-42b4-9c89-69f2e7a32d5f | https://apps.shopify.com/brandssync                   | BrandsSync with new rating system                     | Brandsdistribution | https://apps.shopify.com/partners/zero11                     | https://apps.shopifycdn.com/listing_images/cf3c782d405debf1128e3fe07f7fe21c/icon/afcd598f4863d43122bc6e75b9cf877c.jpg?height=84&quality=90&width=84 |      4 |            72\n",
      " fe1e8e79-7228-41cd-9b21-0d82cc52b88f | https://apps.shopify.com/upsell-cross-sell-smart-tool | Upsell Cross‑Sell Smart Tool with new rating system   | Autoketing         | https://apps.shopify.com/partners/autoketing                 | https://apps.shopifycdn.com/listing_images/9f565201181508b07a71261ff5ecc688/icon/0f9931d1ddccc42bb9723220926808ee.jpg?height=84&quality=90&width=84 |      4 |            34\n",
      " 08767295-ab5e-4f13-85c7-078471e262ed | https://apps.shopify.com/art-of-where                 | Art of Where ‑ Print on demand with new rating system | Art of Where       | https://apps.shopify.com/partners/developer-c217608978dec9f4 | https://apps.shopifycdn.com/listing_images/deb7604059410fb5696170a7f0044cd9/icon/75578a17deb838f4671615e6bd808f9b.jpg?height=84&quality=90&width=84 |      4 |            28\n",
      " ac10dfe7-9a52-4223-9461-34290e00fcd3 | https://apps.shopify.com/viralstyle-fulfillment       | Viralstyle Fulfillment with new rating system         | Viralstyle         | https://apps.shopify.com/partners/developer-9760985521e25cb0 | https://apps.shopifycdn.com/listing_images/0fc3c507f50eda8977de97625721d9d7/icon/d396a6b3f63ef923add731685992d656.jpg?height=84&quality=90&width=84 |      4 |            45\n",
      " b0f1e2ef-f84d-4986-9c3a-534de7d74b2e | https://apps.shopify.com/cart-product-feed            | Etsy, Amazon & 40+ Merchants with new rating system   | Exportfeed.com     | https://apps.shopify.com/partners/purpleturtle               | https://apps.shopifycdn.com/listing_images/97fb42e2ff631069c368ce7545d780de/icon/2d095036ee41c276690d4079c394b022.jpg?height=84&quality=90&width=84 |      4 |            62\n",
      " 941a908d-f142-4348-97c2-317d7c12f98c | https://apps.shopify.com/pixels                       | Pixels ‑ Print On Demand with new rating system       | Pixels.com         | https://apps.shopify.com/partners/developer-48887da66368ae70 | https://apps.shopifycdn.com/listing_images/06071e9c64da8b8f33860ea15c5cc3e3/icon/d1ddd1b8a3d6bebe7c6499e50b897c6a.png?height=84&width=84            |      4 |            68\n",
      " e8384bdd-cbcd-4d7a-86eb-781351be0664 | https://apps.shopify.com/facebook-product-catalog     | Flexify: Facebook Product Feed with new rating system | Flexify AG         | https://apps.shopify.com/partners/flexify                    | https://apps.shopifycdn.com/listing_images/695d71e0479e8c4a0dda7485305e09fe/icon/ce51bb1999beeeffbaef6336ae039c1f.png?height=84&width=84            |      4 |           180\n",
      "(7 rows)\n",
      "\n"
     ]
    }
   ],
   "source": [
    "!psql -c \"select * from shopify.apps limit 7\""
   ]
  },
  {
   "cell_type": "code",
   "execution_count": 57,
   "metadata": {},
   "outputs": [],
   "source": [
    "#first sql query"
   ]
  },
  {
   "cell_type": "code",
   "execution_count": 58,
   "metadata": {},
   "outputs": [
    {
     "name": "stdout",
     "output_type": "stream",
     "text": [
      "                app_id                |        developer         | rating | reviews_count \n",
      "--------------------------------------+--------------------------+--------+---------------\n",
      " f5344e64-9cda-4d97-b198-2aaeb5170518 | Modd Apps Inc.           |      5 |           223\n",
      " c7578030-19fd-42e1-a5a5-03c7861220aa | Onjection Labs           |      5 |           219\n",
      " d0be03ff-f74d-4fb5-8d2c-79541a1aea1b | Excelify.io              |      5 |           178\n",
      " bb0ec62d-8a5d-45a5-bd46-48fbcb888077 | Kapusta Technologies Ltd |      5 |           170\n",
      " 4d6b0f1b-12b1-43d6-af33-c3c006a31da7 | Power Tools              |      5 |           150\n",
      " f99bb1e3-f326-4f10-8901-491652e9809b | Union Works Apps         |      5 |            68\n",
      " 6bbcc4a2-eeb5-4d58-9ce5-f4cf2d4dd0d4 | Ablestar                 |    4.9 |           103\n",
      " d3a6d93c-4463-4533-a712-29addc0b5a8b | Boltics                  |    4.9 |            95\n",
      " e8a37cbe-79da-4062-b4af-f84e749ce125 | Syncio                   |    4.9 |            68\n",
      " 80a8218e-0cf9-4836-a77b-bff73900e935 | Hextom                   |    4.8 |          1064\n",
      " 3aaf2fed-7c5e-4330-9287-db50e5268515 | Firepush                 |    4.8 |           667\n",
      " bfb764b5-e564-4a45-aae6-e2b6ef2b1a4f | Gorgias                  |    4.8 |           253\n",
      " 3541d4d3-2963-49b8-b650-a64825b9c202 | Buymaxx                  |    4.8 |           250\n",
      " 64f79147-e18d-4209-9374-b0dae65ee873 | How Many Steps Inc.      |    4.8 |           141\n",
      " cf733da2-6b5e-44af-94df-2d5c3b8e2502 | Hextom                   |    4.8 |           131\n",
      " 80a731d2-e2a2-4922-92a6-c07ea2b964e1 | Power Tools              |    4.8 |            88\n",
      " 5f3279fc-5759-43a5-9abf-60ef82372bee | AfterShip + Automizely   |    4.7 |           981\n",
      " 797060ad-17d6-4e46-a728-8ecafddb6c64 | Stock Sync               |    4.7 |           490\n",
      " c6a38c5a-5d32-4aea-9f93-4139d69fe007 | Vela                     |    4.7 |           171\n",
      " 2365cbd0-e7a8-4678-9948-f4fb1bb7342f | SpurIT                   |    4.7 |            98\n",
      " 35e449e0-7f4a-4831-bb36-ce8951794f5a | Webify Technology        |    4.6 |           132\n",
      " 032eeb26-b9af-4565-8cce-d72e5abcbc03 | Autoketing               |    4.6 |           103\n",
      " 3cee061e-48ed-4270-9925-3a12c5af3824 | Stock Sync               |    4.6 |            61\n",
      " 9598b415-bd16-477e-a425-85d1e06d94d9 | SpurIT                   |    4.5 |            81\n",
      " 9c05a5b1-2d1b-4282-9006-8c8f6c6b378b | Sellbrite                |    4.4 |            98\n",
      " e29ca127-1b96-48ec-8baf-7609b656c98b | Kit CRM                  |    4.3 |          1306\n",
      " b4a76da2-f312-491a-8e65-e3c69abd2544 | Orderimp                 |    4.1 |            60\n",
      " e6e43ab5-f278-4367-b35f-b6f4c12a3f02 | Shopify                  |      4 |           250\n",
      "(28 rows)\n",
      "\n"
     ]
    }
   ],
   "source": [
    "!psql -c \"select b.app_id, c.developer, c.rating, c.reviews_count from shopify.categories a join shopify.apps_categories b on a.id=b.category_id join shopify.apps c on b.app_id = c.id where a.title = 'Productivity' and c.rating >= 4.0 and c.reviews_count >= 50 order by rating desc, reviews_count desc\""
   ]
  },
  {
   "cell_type": "code",
   "execution_count": 59,
   "metadata": {},
   "outputs": [],
   "source": [
    "#second sql query"
   ]
  },
  {
   "cell_type": "code",
   "execution_count": 60,
   "metadata": {},
   "outputs": [
    {
     "name": "stdout",
     "output_type": "stream",
     "text": [
      "/bin/bash: -c: line 0: unexpected EOF while looking for matching `\"'\n",
      "/bin/bash: -c: line 1: syntax error: unexpected end of file\n"
     ]
    }
   ],
   "source": [
    "!psql -c \"select count(*) from "
   ]
  }
 ],
 "metadata": {
  "environment": {
   "kernel": "python3",
   "name": "common-cpu.m87",
   "type": "gcloud",
   "uri": "gcr.io/deeplearning-platform-release/base-cpu:m87"
  },
  "kernelspec": {
   "display_name": "Python 3",
   "language": "python",
   "name": "python3"
  },
  "language_info": {
   "codemirror_mode": {
    "name": "ipython",
    "version": 3
   },
   "file_extension": ".py",
   "mimetype": "text/x-python",
   "name": "python",
   "nbconvert_exporter": "python",
   "pygments_lexer": "ipython3",
   "version": "3.7.12"
  }
 },
 "nbformat": 4,
 "nbformat_minor": 4
}
