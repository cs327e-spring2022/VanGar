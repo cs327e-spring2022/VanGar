{
 "cells": [
  {
   "cell_type": "code",
   "execution_count": 1,
   "id": "049ef1b2-0891-4eb9-91bd-84f6d352ab48",
   "metadata": {},
   "outputs": [
    {
     "name": "stdout",
     "output_type": "stream",
     "text": [
      "Max length of first_name: 10\n",
      "Max length of last_name: 13\n",
      "Max length of company_name: 30\n",
      "Max length of address: 31\n",
      "Max length of city: 19\n",
      "Max length of county: 20\n",
      "Max length of state: 2\n",
      "Max length of zip: 5\n",
      "Max length of phone1: 12\n",
      "Max length of phone2: 12\n",
      "Max length of email: 34\n",
      "Max length of web: 42\n"
     ]
    }
   ],
   "source": [
    "import pandas as pd\n",
    "df = pd.read_csv('us-500.csv')\n",
    "for col in list(df):\n",
    "    print('Max length of ' + col + ': ' + str(len(max(map(str, df[col].tolist()), key=len))))"
   ]
  },
  {
   "cell_type": "code",
   "execution_count": 2,
   "id": "1e4701bd-5833-4540-84c8-ff1b03f92b4c",
   "metadata": {},
   "outputs": [
    {
     "name": "stdout",
     "output_type": "stream",
     "text": [
      "Requirement already satisfied: mysql-connector-python in /opt/conda/lib/python3.7/site-packages (8.0.29)\n",
      "Requirement already satisfied: protobuf>=3.0.0 in /opt/conda/lib/python3.7/site-packages (from mysql-connector-python) (3.19.1)\n"
     ]
    }
   ],
   "source": [
    "!pip install mysql-connector-python"
   ]
  },
  {
   "cell_type": "code",
   "execution_count": 3,
   "id": "7e547524-cfac-4e48-801d-cd51b64aae96",
   "metadata": {},
   "outputs": [],
   "source": [
    "!mysql < create_table.sql"
   ]
  },
  {
   "cell_type": "code",
   "execution_count": 4,
   "id": "3b9c695c-3e2b-43cf-babc-57bb7cba4511",
   "metadata": {},
   "outputs": [
    {
     "name": "stdout",
     "output_type": "stream",
     "text": [
      "+------------------------+\n",
      "| Tables_in_load_testing |\n",
      "+------------------------+\n",
      "| Person                 |\n",
      "+------------------------+\n"
     ]
    }
   ],
   "source": [
    "!mysql load_testing -e 'show tables'"
   ]
  },
  {
   "cell_type": "code",
   "execution_count": 5,
   "id": "d7fee127-9f2e-455b-9cb3-871d0ae393db",
   "metadata": {},
   "outputs": [
    {
     "name": "stdout",
     "output_type": "stream",
     "text": [
      "+--------------+-------------+------+-----+---------+----------------+\n",
      "| Field        | Type        | Null | Key | Default | Extra          |\n",
      "+--------------+-------------+------+-----+---------+----------------+\n",
      "| id           | mediumint   | NO   | PRI | NULL    | auto_increment |\n",
      "| first_name   | varchar(20) | YES  |     | NULL    |                |\n",
      "| last_name    | varchar(23) | YES  |     | NULL    |                |\n",
      "| company_name | varchar(40) | YES  |     | NULL    |                |\n",
      "| address      | varchar(41) | YES  |     | NULL    |                |\n",
      "| city         | varchar(29) | YES  |     | NULL    |                |\n",
      "| county       | varchar(30) | YES  |     | NULL    |                |\n",
      "| state        | char(2)     | YES  |     | NULL    |                |\n",
      "| zip_code     | char(5)     | YES  |     | NULL    |                |\n",
      "| phone_one    | char(12)    | YES  |     | NULL    |                |\n",
      "| phone_two    | char(12)    | YES  |     | NULL    |                |\n",
      "| email        | varchar(44) | YES  |     | NULL    |                |\n",
      "| web          | varchar(52) | YES  |     | NULL    |                |\n",
      "+--------------+-------------+------+-----+---------+----------------+\n"
     ]
    }
   ],
   "source": [
    "!mysql load_testing -e 'desc Person'"
   ]
  },
  {
   "cell_type": "code",
   "execution_count": 6,
   "id": "9a2100cf-09c6-483c-885c-4fe821dc1846",
   "metadata": {},
   "outputs": [
    {
     "data": {
      "text/plain": [
       "True"
      ]
     },
     "execution_count": 6,
     "metadata": {},
     "output_type": "execute_result"
    }
   ],
   "source": [
    "import mysql.connector\n",
    "connection = mysql.connector.connect(\n",
    "  host=\"10.128.0.3\",\n",
    "  user=\"root\",\n",
    "  password=\"vangar\",\n",
    "  database=\"load_testing\",\n",
    "  autocommit=False\n",
    ")\n",
    "\n",
    "cursor = connection.cursor()\n",
    "cursor.execute('TRUNCATE TABLE Person')\n",
    "cursor.close()"
   ]
  },
  {
   "cell_type": "code",
   "execution_count": null,
   "id": "1e05a953-496d-4619-bd84-e79a2271556c",
   "metadata": {},
   "outputs": [
    {
     "name": "stdout",
     "output_type": "stream",
     "text": [
      "<mysql.connector.connection_cext.CMySQLConnection object at 0x7fdf01f70890>\n",
      "5000 records inserted successfully into Person table\n",
      "10000 records inserted successfully into Person table\n",
      "15000 records inserted successfully into Person table\n",
      "20000 records inserted successfully into Person table\n",
      "25000 records inserted successfully into Person table\n",
      "30000 records inserted successfully into Person table\n",
      "35000 records inserted successfully into Person table\n",
      "40000 records inserted successfully into Person table\n",
      "45000 records inserted successfully into Person table\n",
      "50000 records inserted successfully into Person table\n",
      "55000 records inserted successfully into Person table\n",
      "60000 records inserted successfully into Person table\n",
      "65000 records inserted successfully into Person table\n",
      "70000 records inserted successfully into Person table\n",
      "75000 records inserted successfully into Person table\n",
      "80000 records inserted successfully into Person table\n",
      "85000 records inserted successfully into Person table\n",
      "90000 records inserted successfully into Person table\n",
      "95000 records inserted successfully into Person table\n",
      "100000 records inserted successfully into Person table\n",
      "105000 records inserted successfully into Person table\n",
      "110000 records inserted successfully into Person table\n",
      "115000 records inserted successfully into Person table\n",
      "120000 records inserted successfully into Person table\n",
      "125000 records inserted successfully into Person table\n",
      "130000 records inserted successfully into Person table\n",
      "135000 records inserted successfully into Person table\n",
      "140000 records inserted successfully into Person table\n",
      "145000 records inserted successfully into Person table\n",
      "150000 records inserted successfully into Person table\n",
      "155000 records inserted successfully into Person table\n",
      "160000 records inserted successfully into Person table\n",
      "165000 records inserted successfully into Person table\n",
      "170000 records inserted successfully into Person table\n",
      "175000 records inserted successfully into Person table\n",
      "180000 records inserted successfully into Person table\n",
      "185000 records inserted successfully into Person table\n",
      "190000 records inserted successfully into Person table\n",
      "195000 records inserted successfully into Person table\n",
      "200000 records inserted successfully into Person table\n",
      "205000 records inserted successfully into Person table\n",
      "210000 records inserted successfully into Person table\n",
      "215000 records inserted successfully into Person table\n",
      "220000 records inserted successfully into Person table\n",
      "225000 records inserted successfully into Person table\n",
      "230000 records inserted successfully into Person table\n",
      "235000 records inserted successfully into Person table\n",
      "240000 records inserted successfully into Person table\n",
      "245000 records inserted successfully into Person table\n",
      "250000 records inserted successfully into Person table\n"
     ]
    }
   ],
   "source": [
    "%%timeit\n",
    "\n",
    "import mysql.connector\n",
    "import pandas as pd\n",
    "import csv\n",
    "\n",
    "\n",
    "\n",
    "connection = mysql.connector.connect(\n",
    "  host=\"10.128.0.3\",\n",
    "  user=\"root\",\n",
    "  password=\"vangar\",\n",
    "  database=\"load_testing\",\n",
    "  autocommit=False\n",
    ")\n",
    "\n",
    "print(connection)\n",
    "\n",
    "\n",
    "sql = \"INSERT INTO Person (first_name, last_name, company_name, address, city, county, state, zip_code, phone_one, phone_two, email, web)\\\n",
    "\t  VALUES (%s, %s, %s, %s, %s, %s, %s, %s, %s, %s, %s, %s)\"\n",
    "\n",
    "\n",
    "try:\n",
    "    with open('us-1000000.csv', newline = '') as read_obj:\n",
    "        csv_reader = csv.reader(read_obj)\n",
    "        columns = next(csv_reader)\n",
    "        rows = [tuple(row) for row in csv_reader]\n",
    "        value = 0\n",
    "        with connection.cursor() as cursor:\n",
    "            for row in rows:\n",
    "                value += 1\n",
    "                cursor.execute(sql, row)\n",
    "                if value % 5000 == 0:\n",
    "                    connection.commit()\n",
    "                    print(str(value) + ' records inserted successfully into Person table')\n",
    "    \n",
    "except mysql.connector.Error as error:\n",
    "    print(\"Failed to insert record into Person table {}\".format(error))\n",
    "\n",
    "finally:\n",
    "    if connection.is_connected():\n",
    "        connection.close()\n",
    "        print(\"MySQL connection is closed\")"
   ]
  },
  {
   "cell_type": "code",
   "execution_count": null,
   "id": "a36a9c36-a4ca-483e-ad29-86d97329d558",
   "metadata": {},
   "outputs": [],
   "source": []
  },
  {
   "cell_type": "code",
   "execution_count": null,
   "id": "32309ff4-aecc-4656-b3d0-1e21260a5eae",
   "metadata": {},
   "outputs": [],
   "source": []
  }
 ],
 "metadata": {
  "environment": {
   "kernel": "python3",
   "name": "common-cpu.m87",
   "type": "gcloud",
   "uri": "gcr.io/deeplearning-platform-release/base-cpu:m87"
  },
  "kernelspec": {
   "display_name": "Python 3",
   "language": "python",
   "name": "python3"
  },
  "language_info": {
   "codemirror_mode": {
    "name": "ipython",
    "version": 3
   },
   "file_extension": ".py",
   "mimetype": "text/x-python",
   "name": "python",
   "nbconvert_exporter": "python",
   "pygments_lexer": "ipython3",
   "version": "3.7.12"
  }
 },
 "nbformat": 4,
 "nbformat_minor": 5
}
