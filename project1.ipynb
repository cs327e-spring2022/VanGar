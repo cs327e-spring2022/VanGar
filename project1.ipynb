{
 "cells": [
  {
   "cell_type": "code",
   "execution_count": 7,
   "id": "df0a5ced-32e1-4cb3-b82d-a0bbf2d5ef87",
   "metadata": {},
   "outputs": [
    {
     "name": "stdout",
     "output_type": "stream",
     "text": [
      "env: INSTANCE=mysql\n"
     ]
    }
   ],
   "source": [
    "%env INSTANCE=mysql"
   ]
  },
  {
   "cell_type": "code",
   "execution_count": 8,
   "id": "5e06d3aa-410a-4e52-8990-8d86a94bc0fb",
   "metadata": {},
   "outputs": [
    {
     "name": "stdout",
     "output_type": "stream",
     "text": [
      "Copying gs://cs327e-open-access/sakila.zip...\n",
      "/ [1 files][786.4 KiB/786.4 KiB]                                                \n",
      "Operation completed over 1 objects/786.4 KiB.                                    \n"
     ]
    }
   ],
   "source": [
    "!gsutil cp gs://cs327e-open-access/sakila.zip ."
   ]
  },
  {
   "cell_type": "code",
   "execution_count": null,
   "id": "4233aab9-2921-4531-ab69-74c6fc34fc1a",
   "metadata": {
    "tags": []
   },
   "outputs": [
    {
     "name": "stdout",
     "output_type": "stream",
     "text": [
      "Archive:  sakila.zip\n",
      "replace sakila/.DS_Store? [y]es, [n]o, [A]ll, [N]one, [r]ename: "
     ]
    }
   ],
   "source": [
    "!unzip sakila.zip"
   ]
  },
  {
   "cell_type": "code",
   "execution_count": null,
   "id": "20dd2c95-3d34-49c2-b9e9-620a58e115c9",
   "metadata": {},
   "outputs": [],
   "source": [
    "!mysql < /home/jupyter/sakila/sakila-database.sql"
   ]
  },
  {
   "cell_type": "code",
   "execution_count": null,
   "id": "4ff153ab-ee83-4bff-9b7c-2e29f1cc4403",
   "metadata": {},
   "outputs": [],
   "source": [
    "!mysql < /home/jupyter/sakila/sakila-data.sql"
   ]
  },
  {
   "cell_type": "code",
   "execution_count": null,
   "id": "d9e1822a-637f-4091-9076-a753cba63bee",
   "metadata": {},
   "outputs": [],
   "source": [
    "!mysql sakila -e \"show tables\""
   ]
  },
  {
   "cell_type": "code",
   "execution_count": null,
   "id": "bf99574e-2631-480a-8490-f2186b79b022",
   "metadata": {},
   "outputs": [],
   "source": [
    "!mysql sakila -e \"select count(*) from actor\""
   ]
  },
  {
   "cell_type": "code",
   "execution_count": null,
   "id": "e3586d7e-686e-40dc-b37b-d62421912aec",
   "metadata": {},
   "outputs": [],
   "source": [
    "!mysql sakila -e \"select count(*) from actor_info\""
   ]
  },
  {
   "cell_type": "code",
   "execution_count": 21,
   "id": "a0b472a3-2b40-46e0-858c-ae6fb6d6ca2e",
   "metadata": {},
   "outputs": [
    {
     "name": "stdout",
     "output_type": "stream",
     "text": [
      "+----------+\n",
      "| count(*) |\n",
      "+----------+\n",
      "|      603 |\n",
      "+----------+\n"
     ]
    }
   ],
   "source": [
    "!mysql sakila -e \"select count(*) from address\""
   ]
  },
  {
   "cell_type": "code",
   "execution_count": 22,
   "id": "ce28e00d-d6b3-402d-9dbb-e48f3a40fff5",
   "metadata": {},
   "outputs": [
    {
     "name": "stdout",
     "output_type": "stream",
     "text": [
      "+----------+\n",
      "| count(*) |\n",
      "+----------+\n",
      "|       16 |\n",
      "+----------+\n"
     ]
    }
   ],
   "source": [
    "!mysql sakila -e \"select count(*) from category\""
   ]
  },
  {
   "cell_type": "code",
   "execution_count": 23,
   "id": "5bbc916f-6eb3-4108-b076-91fb4ef57097",
   "metadata": {},
   "outputs": [
    {
     "name": "stdout",
     "output_type": "stream",
     "text": [
      "+----------+\n",
      "| count(*) |\n",
      "+----------+\n",
      "|      600 |\n",
      "+----------+\n"
     ]
    }
   ],
   "source": [
    "!mysql sakila -e \"select count(*) from city\""
   ]
  },
  {
   "cell_type": "code",
   "execution_count": 24,
   "id": "a1dabb24-2090-445b-915c-d32aefd66491",
   "metadata": {},
   "outputs": [
    {
     "name": "stdout",
     "output_type": "stream",
     "text": [
      "+----------+\n",
      "| count(*) |\n",
      "+----------+\n",
      "|      109 |\n",
      "+----------+\n"
     ]
    }
   ],
   "source": [
    "!mysql sakila -e \"select count(*) from country\""
   ]
  },
  {
   "cell_type": "code",
   "execution_count": 25,
   "id": "7c4ac0ad-7fc4-41c6-80a1-e324223d2da8",
   "metadata": {},
   "outputs": [
    {
     "name": "stdout",
     "output_type": "stream",
     "text": [
      "+----------+\n",
      "| count(*) |\n",
      "+----------+\n",
      "|      599 |\n",
      "+----------+\n"
     ]
    }
   ],
   "source": [
    "!mysql sakila -e \"select count(*) from customer\""
   ]
  },
  {
   "cell_type": "code",
   "execution_count": 26,
   "id": "aea3cfde-5b95-4962-8e40-dc125f173ff3",
   "metadata": {},
   "outputs": [
    {
     "name": "stdout",
     "output_type": "stream",
     "text": [
      "+----------+\n",
      "| count(*) |\n",
      "+----------+\n",
      "|      599 |\n",
      "+----------+\n"
     ]
    }
   ],
   "source": [
    "!mysql sakila -e \"select count(*) from customer_list\""
   ]
  },
  {
   "cell_type": "code",
   "execution_count": 27,
   "id": "89eb14c4-f28a-429e-a96b-c1ea5377cac1",
   "metadata": {},
   "outputs": [
    {
     "name": "stdout",
     "output_type": "stream",
     "text": [
      "+----------+\n",
      "| count(*) |\n",
      "+----------+\n",
      "|     1000 |\n",
      "+----------+\n"
     ]
    }
   ],
   "source": [
    "!mysql sakila -e \"select count(*) from film\""
   ]
  },
  {
   "cell_type": "code",
   "execution_count": 28,
   "id": "ef178624-68e3-4a99-a093-e1bbe7de4b80",
   "metadata": {},
   "outputs": [
    {
     "name": "stdout",
     "output_type": "stream",
     "text": [
      "+----------+\n",
      "| count(*) |\n",
      "+----------+\n",
      "|     5462 |\n",
      "+----------+\n"
     ]
    }
   ],
   "source": [
    "!mysql sakila -e \"select count(*) from film_actor\""
   ]
  },
  {
   "cell_type": "code",
   "execution_count": 29,
   "id": "388ac7d1-08f2-46b0-b614-41c7b515766c",
   "metadata": {},
   "outputs": [
    {
     "name": "stdout",
     "output_type": "stream",
     "text": [
      "+----------+\n",
      "| count(*) |\n",
      "+----------+\n",
      "|     1000 |\n",
      "+----------+\n"
     ]
    }
   ],
   "source": [
    "!mysql sakila -e \"select count(*) from film_category\""
   ]
  },
  {
   "cell_type": "code",
   "execution_count": 30,
   "id": "05ee9450-50f1-4f12-8478-bbbb73e6a80b",
   "metadata": {},
   "outputs": [
    {
     "name": "stdout",
     "output_type": "stream",
     "text": [
      "+----------+\n",
      "| count(*) |\n",
      "+----------+\n",
      "|      997 |\n",
      "+----------+\n"
     ]
    }
   ],
   "source": [
    "!mysql sakila -e \"select count(*) from film_list\""
   ]
  },
  {
   "cell_type": "code",
   "execution_count": 31,
   "id": "c0cfa030-9918-4347-8fe6-dedea56de085",
   "metadata": {},
   "outputs": [
    {
     "name": "stdout",
     "output_type": "stream",
     "text": [
      "+----------+\n",
      "| count(*) |\n",
      "+----------+\n",
      "|     1000 |\n",
      "+----------+\n"
     ]
    }
   ],
   "source": [
    "!mysql sakila -e \"select count(*) from film_text\""
   ]
  },
  {
   "cell_type": "code",
   "execution_count": 32,
   "id": "16e3cd4d-877e-4cbc-9508-81a7c39c2b6c",
   "metadata": {},
   "outputs": [
    {
     "name": "stdout",
     "output_type": "stream",
     "text": [
      "+----------+\n",
      "| count(*) |\n",
      "+----------+\n",
      "|     4581 |\n",
      "+----------+\n"
     ]
    }
   ],
   "source": [
    "!mysql sakila -e \"select count(*) from inventory\""
   ]
  },
  {
   "cell_type": "code",
   "execution_count": 33,
   "id": "b65a2c27-2023-46df-9815-b2bf9f93358e",
   "metadata": {},
   "outputs": [
    {
     "name": "stdout",
     "output_type": "stream",
     "text": [
      "+----------+\n",
      "| count(*) |\n",
      "+----------+\n",
      "|        6 |\n",
      "+----------+\n"
     ]
    }
   ],
   "source": [
    "!mysql sakila -e \"select count(*) from language\""
   ]
  },
  {
   "cell_type": "code",
   "execution_count": 34,
   "id": "556a430f-0ea1-49cb-8285-d0e4c114ebae",
   "metadata": {},
   "outputs": [
    {
     "name": "stdout",
     "output_type": "stream",
     "text": [
      "+----------+\n",
      "| count(*) |\n",
      "+----------+\n",
      "|      997 |\n",
      "+----------+\n"
     ]
    }
   ],
   "source": [
    "!mysql sakila -e \"select count(*) from nicer_but_slower_film_list\""
   ]
  },
  {
   "cell_type": "code",
   "execution_count": null,
   "id": "7874cb88-e768-4fa5-a7a9-93f2d1a7af2d",
   "metadata": {},
   "outputs": [],
   "source": [
    "!mysql sakila -e \"select count(*) from payment\""
   ]
  },
  {
   "cell_type": "code",
   "execution_count": null,
   "id": "c9757c1e-f6f1-4b9f-9721-5bbfcf73704d",
   "metadata": {},
   "outputs": [],
   "source": [
    "!mysql sakila -e \"select count(*) from rental\""
   ]
  },
  {
   "cell_type": "code",
   "execution_count": null,
   "id": "59287304-05b4-4005-acca-cb6263645b7a",
   "metadata": {},
   "outputs": [],
   "source": [
    "!mysql sakila -e \"select count(*) from sales_by_film_category\""
   ]
  },
  {
   "cell_type": "code",
   "execution_count": null,
   "id": "f9d66cba-a822-4d1c-8b4a-193b94db9db8",
   "metadata": {},
   "outputs": [],
   "source": [
    "!mysql sakila -e \"select count(*) from sales_by_store\""
   ]
  },
  {
   "cell_type": "code",
   "execution_count": null,
   "id": "a109dd98-6553-4718-812f-e5aa19416027",
   "metadata": {},
   "outputs": [],
   "source": [
    "!mysql sakila -e \"select count(*) from staff\""
   ]
  },
  {
   "cell_type": "code",
   "execution_count": null,
   "id": "9fc6dac8-b2ed-4759-a952-5ce1d127b468",
   "metadata": {},
   "outputs": [],
   "source": [
    "!mysql sakila -e \"select count(*) from staff_list\""
   ]
  },
  {
   "cell_type": "code",
   "execution_count": null,
   "id": "e1685fcd-1f6f-4bf3-ad62-c60be3c15074",
   "metadata": {},
   "outputs": [],
   "source": [
    "!mysql sakila -e \"select count(*) from store\""
   ]
  },
  {
   "cell_type": "code",
   "execution_count": null,
   "id": "ed8500ab-df76-4085-8594-5b4190ea4262",
   "metadata": {},
   "outputs": [],
   "source": [
    "!mysql sakila -e \"desc actor\""
   ]
  },
  {
   "cell_type": "code",
   "execution_count": null,
   "id": "8885875f-fe54-4595-ae16-66826aeb8683",
   "metadata": {},
   "outputs": [],
   "source": [
    "!mysql sakila -e \"select * from actor limit 6\""
   ]
  },
  {
   "cell_type": "code",
   "execution_count": null,
   "id": "e31e7866-2beb-4f83-932e-65033a164c4a",
   "metadata": {},
   "outputs": [],
   "source": [
    "!mysql sakila -e \"desc actor_info\""
   ]
  },
  {
   "cell_type": "code",
   "execution_count": null,
   "id": "b8a17b5f-fbe7-47c0-98d4-7a62259d220b",
   "metadata": {},
   "outputs": [],
   "source": [
    "!mysql sakila -e \"select * from actor_info limit 1\""
   ]
  },
  {
   "cell_type": "code",
   "execution_count": 12,
   "id": "6f767298-b157-4790-8c76-b7d747f3f58a",
   "metadata": {},
   "outputs": [
    {
     "name": "stdout",
     "output_type": "stream",
     "text": [
      "+-------------+----------------------+------+-----+-------------------+-----------------------------------------------+\n",
      "| Field       | Type                 | Null | Key | Default           | Extra                                         |\n",
      "+-------------+----------------------+------+-----+-------------------+-----------------------------------------------+\n",
      "| address_id  | smallint(5) unsigned | NO   | PRI | NULL              | auto_increment                                |\n",
      "| address     | varchar(50)          | NO   |     | NULL              |                                               |\n",
      "| address2    | varchar(50)          | YES  |     | NULL              |                                               |\n",
      "| district    | varchar(20)          | NO   |     | NULL              |                                               |\n",
      "| city_id     | smallint(5) unsigned | NO   | MUL | NULL              |                                               |\n",
      "| postal_code | varchar(10)          | YES  |     | NULL              |                                               |\n",
      "| phone       | varchar(20)          | NO   |     | NULL              |                                               |\n",
      "| location    | geometry             | NO   | MUL | NULL              |                                               |\n",
      "| last_update | timestamp            | NO   |     | CURRENT_TIMESTAMP | DEFAULT_GENERATED on update CURRENT_TIMESTAMP |\n",
      "+-------------+----------------------+------+-----+-------------------+-----------------------------------------------+\n"
     ]
    }
   ],
   "source": [
    "!mysql sakila -e \"desc address\""
   ]
  },
  {
   "cell_type": "code",
   "execution_count": 16,
   "id": "869e67f5-520a-4f2d-bb55-445c7f0f3943",
   "metadata": {},
   "outputs": [
    {
     "name": "stdout",
     "output_type": "stream",
     "text": [
      "+------------+----------------------+----------+----------+---------+-------------+---------------------+\n",
      "| address_id | address              | address2 | district | city_id | phone       | last_update         |\n",
      "+------------+----------------------+----------+----------+---------+-------------+---------------------+\n",
      "|          1 | 47 MySakila Drive    | NULL     | Alberta  |     300 |             | 2014-09-25 22:30:27 |\n",
      "|          2 | 28 MySQL Boulevard   | NULL     | QLD      |     576 |             | 2014-09-25 22:30:09 |\n",
      "|          3 | 23 Workhaven Lane    | NULL     | Alberta  |     300 | 14033335568 | 2014-09-25 22:30:27 |\n",
      "|          4 | 1411 Lillydale Drive | NULL     | QLD      |     576 | 6172235589  | 2014-09-25 22:30:09 |\n",
      "+------------+----------------------+----------+----------+---------+-------------+---------------------+\n"
     ]
    }
   ],
   "source": [
    "!mysql sakila -e \"select address_id, address, address2, district, city_id, phone, last_update from address limit 4\""
   ]
  },
  {
   "cell_type": "code",
   "execution_count": 48,
   "id": "4711ae86-02b1-45af-8c15-d518d8568ce7",
   "metadata": {},
   "outputs": [
    {
     "name": "stdout",
     "output_type": "stream",
     "text": [
      "+-------------+-----------+---------------------+\n",
      "| category_id | name      | last_update         |\n",
      "+-------------+-----------+---------------------+\n",
      "|           1 | Action    | 2006-02-15 04:46:27 |\n",
      "|           2 | Animation | 2006-02-15 04:46:27 |\n",
      "|           3 | Children  | 2006-02-15 04:46:27 |\n",
      "|           4 | Classics  | 2006-02-15 04:46:27 |\n",
      "|           5 | Comedy    | 2006-02-15 04:46:27 |\n",
      "+-------------+-----------+---------------------+\n"
     ]
    }
   ],
   "source": [
    "!mysql sakila -e \"select * from category limit 5\""
   ]
  },
  {
   "cell_type": "code",
   "execution_count": 1,
   "id": "64cc79b2-6be5-4cd6-8e04-e91dad18f673",
   "metadata": {},
   "outputs": [
    {
     "name": "stdout",
     "output_type": "stream",
     "text": [
      "+---------+--------------------+------------+---------------------+\n",
      "| city_id | city               | country_id | last_update         |\n",
      "+---------+--------------------+------------+---------------------+\n",
      "|       1 | A Corua (La Corua) |         87 | 2006-02-15 04:45:25 |\n",
      "|       2 | Abha               |         82 | 2006-02-15 04:45:25 |\n",
      "|       3 | Abu Dhabi          |        101 | 2006-02-15 04:45:25 |\n",
      "|       4 | Acua               |         60 | 2006-02-15 04:45:25 |\n",
      "+---------+--------------------+------------+---------------------+\n"
     ]
    }
   ],
   "source": [
    "!mysql sakila -e \"select * from city limit 4\""
   ]
  },
  {
   "cell_type": "code",
   "execution_count": 2,
   "id": "eb25ea86-4ec2-4865-8b81-318478f39354",
   "metadata": {},
   "outputs": [
    {
     "name": "stdout",
     "output_type": "stream",
     "text": [
      "+------------+----------------+---------------------+\n",
      "| country_id | country        | last_update         |\n",
      "+------------+----------------+---------------------+\n",
      "|          1 | Afghanistan    | 2006-02-15 04:44:00 |\n",
      "|          2 | Algeria        | 2006-02-15 04:44:00 |\n",
      "|          3 | American Samoa | 2006-02-15 04:44:00 |\n",
      "|          4 | Angola         | 2006-02-15 04:44:00 |\n",
      "+------------+----------------+---------------------+\n"
     ]
    }
   ],
   "source": [
    "!mysql sakila -e \"select * from country limit 4\""
   ]
  },
  {
   "cell_type": "code",
   "execution_count": 3,
   "id": "28e8569a-e98a-4ab4-aa43-4a8d22e9c36f",
   "metadata": {},
   "outputs": [
    {
     "name": "stdout",
     "output_type": "stream",
     "text": [
      "+-------------+----------+------------+-----------+-------------------------------------+------------+--------+---------------------+---------------------+\n",
      "| customer_id | store_id | first_name | last_name | email                               | address_id | active | create_date         | last_update         |\n",
      "+-------------+----------+------------+-----------+-------------------------------------+------------+--------+---------------------+---------------------+\n",
      "|           1 |        1 | MARY       | SMITH     | MARY.SMITH@sakilacustomer.org       |          5 |      1 | 2006-02-14 22:04:36 | 2006-02-15 04:57:20 |\n",
      "|           2 |        1 | PATRICIA   | JOHNSON   | PATRICIA.JOHNSON@sakilacustomer.org |          6 |      1 | 2006-02-14 22:04:36 | 2006-02-15 04:57:20 |\n",
      "|           3 |        1 | LINDA      | WILLIAMS  | LINDA.WILLIAMS@sakilacustomer.org   |          7 |      1 | 2006-02-14 22:04:36 | 2006-02-15 04:57:20 |\n",
      "|           4 |        2 | BARBARA    | JONES     | BARBARA.JONES@sakilacustomer.org    |          8 |      1 | 2006-02-14 22:04:36 | 2006-02-15 04:57:20 |\n",
      "+-------------+----------+------------+-----------+-------------------------------------+------------+--------+---------------------+---------------------+\n"
     ]
    }
   ],
   "source": [
    "!mysql sakila -e \"select * from customer limit 4\""
   ]
  },
  {
   "cell_type": "code",
   "execution_count": 22,
   "id": "0385302b-ea05-496f-8524-516ae67bd01b",
   "metadata": {},
   "outputs": [
    {
     "name": "stdout",
     "output_type": "stream",
     "text": [
      "+----+------------------+------------------+----------+--------------+----------------+---------------+--------+-----+\n",
      "| ID | name             | address          | zip code | phone        | city           | country       | notes  | SID |\n",
      "+----+------------------+------------------+----------+--------------+----------------+---------------+--------+-----+\n",
      "|  1 | MARY SMITH       | 1913 Hanoi Way   | 35200    | 28303384290  | Sasebo         | Japan         | active |   1 |\n",
      "|  2 | PATRICIA JOHNSON | 1121 Loja Avenue | 17886    | 838635286649 | San Bernardino | United States | active |   1 |\n",
      "+----+------------------+------------------+----------+--------------+----------------+---------------+--------+-----+\n"
     ]
    }
   ],
   "source": [
    "!mysql sakila -e \"select * from customer_list limit 2\""
   ]
  },
  {
   "cell_type": "code",
   "execution_count": 23,
   "id": "f542267b-2bf1-4db6-86af-ef66b7e64841",
   "metadata": {},
   "outputs": [
    {
     "name": "stdout",
     "output_type": "stream",
     "text": [
      "+---------+------------------+------------------------------------------------------------------------------------------------------+--------------+-------------+----------------------+-----------------+-------------+--------+------------------+--------+----------------------------------+---------------------+\n",
      "| film_id | title            | description                                                                                          | release_year | language_id | original_language_id | rental_duration | rental_rate | length | replacement_cost | rating | special_features                 | last_update         |\n",
      "+---------+------------------+------------------------------------------------------------------------------------------------------+--------------+-------------+----------------------+-----------------+-------------+--------+------------------+--------+----------------------------------+---------------------+\n",
      "|       1 | ACADEMY DINOSAUR | A Epic Drama of a Feminist And a Mad Scientist who must Battle a Teacher in The Canadian Rockies     |         2006 |           1 |                 NULL |               6 |        0.99 |     86 |            20.99 | PG     | Deleted Scenes,Behind the Scenes | 2006-02-15 05:03:42 |\n",
      "|       2 | ACE GOLDFINGER   | A Astounding Epistle of a Database Administrator And a Explorer who must Find a Car in Ancient China |         2006 |           1 |                 NULL |               3 |        4.99 |     48 |            12.99 | G      | Trailers,Deleted Scenes          | 2006-02-15 05:03:42 |\n",
      "+---------+------------------+------------------------------------------------------------------------------------------------------+--------------+-------------+----------------------+-----------------+-------------+--------+------------------+--------+----------------------------------+---------------------+\n"
     ]
    }
   ],
   "source": [
    "!mysql sakila -e \"select * from film limit 2\""
   ]
  },
  {
   "cell_type": "code",
   "execution_count": 6,
   "id": "97ce9f92-d0ec-4329-8b3d-18a210e82639",
   "metadata": {},
   "outputs": [
    {
     "name": "stdout",
     "output_type": "stream",
     "text": [
      "+----------+---------+---------------------+\n",
      "| actor_id | film_id | last_update         |\n",
      "+----------+---------+---------------------+\n",
      "|        1 |       1 | 2006-02-15 05:05:03 |\n",
      "|        1 |      23 | 2006-02-15 05:05:03 |\n",
      "|        1 |      25 | 2006-02-15 05:05:03 |\n",
      "|        1 |     106 | 2006-02-15 05:05:03 |\n",
      "+----------+---------+---------------------+\n"
     ]
    }
   ],
   "source": [
    "!mysql sakila -e \"select * from film_actor limit 4\""
   ]
  },
  {
   "cell_type": "code",
   "execution_count": 7,
   "id": "988a19a5-8688-4cd2-8a78-8c57bf8c63e4",
   "metadata": {},
   "outputs": [
    {
     "name": "stdout",
     "output_type": "stream",
     "text": [
      "+---------+-------------+---------------------+\n",
      "| film_id | category_id | last_update         |\n",
      "+---------+-------------+---------------------+\n",
      "|       1 |           6 | 2006-02-15 05:07:09 |\n",
      "|       2 |          11 | 2006-02-15 05:07:09 |\n",
      "|       3 |           6 | 2006-02-15 05:07:09 |\n",
      "|       4 |          11 | 2006-02-15 05:07:09 |\n",
      "+---------+-------------+---------------------+\n"
     ]
    }
   ],
   "source": [
    "!mysql sakila -e \"select * from film_category limit 4\""
   ]
  },
  {
   "cell_type": "code",
   "execution_count": 8,
   "id": "84fe32c0-98a6-42e6-9f99-ca2483e9eed9",
   "metadata": {},
   "outputs": [
    {
     "name": "stdout",
     "output_type": "stream",
     "text": [
      "+------+------------------+------------------------------------------------------------------------------------------------------+-------------+-------+--------+--------+------------------------------------------------------------------------------------------------------------------------------------------------+\n",
      "| FID  | title            | description                                                                                          | category    | price | length | rating | actors                                                                                                                                         |\n",
      "+------+------------------+------------------------------------------------------------------------------------------------------+-------------+-------+--------+--------+------------------------------------------------------------------------------------------------------------------------------------------------+\n",
      "|    1 | ACADEMY DINOSAUR | A Epic Drama of a Feminist And a Mad Scientist who must Battle a Teacher in The Canadian Rockies     | Documentary |  0.99 |     86 | PG     | PENELOPE GUINESS, LUCILLE TRACY, SANDRA PECK, JOHNNY CAGE, MENA TEMPLE, WARREN NOLTE, OPRAH KILMER, ROCK DUKAKIS, MARY KEITEL, CHRISTIAN GABLE |\n",
      "|    2 | ACE GOLDFINGER   | A Astounding Epistle of a Database Administrator And a Explorer who must Find a Car in Ancient China | Horror      |  4.99 |     48 | G      | CHRIS DEPP, SEAN GUINESS, MINNIE ZELLWEGER, BOB FAWCETT                                                                                        |\n",
      "|    3 | ADAPTATION HOLES | A Astounding Reflection of a Lumberjack And a Car who must Sink a Lumberjack in A Baloon Factory     | Documentary |  2.99 |     50 | NC-17  | NICK WAHLBERG, BOB FAWCETT, CAMERON STREEP, RAY JOHANSSON, JULIANNE DENCH                                                                      |\n",
      "|    4 | AFFAIR PREJUDICE | A Fanciful Documentary of a Frisbee And a Lumberjack who must Chase a Monkey in A Shark Tank         | Horror      |  2.99 |    117 | G      | OPRAH KILMER, FAY WINSLET, KENNETH PESCI, SCARLETT DAMON, JODIE DEGENERES                                                                      |\n",
      "+------+------------------+------------------------------------------------------------------------------------------------------+-------------+-------+--------+--------+------------------------------------------------------------------------------------------------------------------------------------------------+\n"
     ]
    }
   ],
   "source": [
    "!mysql sakila -e \"select * from film_list limit 4\""
   ]
  },
  {
   "cell_type": "code",
   "execution_count": 9,
   "id": "6252113d-a897-4d69-910e-05d43dfc8ff8",
   "metadata": {},
   "outputs": [
    {
     "name": "stdout",
     "output_type": "stream",
     "text": [
      "+---------+------------------+------------------------------------------------------------------------------------------------------+\n",
      "| film_id | title            | description                                                                                          |\n",
      "+---------+------------------+------------------------------------------------------------------------------------------------------+\n",
      "|       1 | ACADEMY DINOSAUR | A Epic Drama of a Feminist And a Mad Scientist who must Battle a Teacher in The Canadian Rockies     |\n",
      "|       2 | ACE GOLDFINGER   | A Astounding Epistle of a Database Administrator And a Explorer who must Find a Car in Ancient China |\n",
      "|       3 | ADAPTATION HOLES | A Astounding Reflection of a Lumberjack And a Car who must Sink a Lumberjack in A Baloon Factory     |\n",
      "|       4 | AFFAIR PREJUDICE | A Fanciful Documentary of a Frisbee And a Lumberjack who must Chase a Monkey in A Shark Tank         |\n",
      "+---------+------------------+------------------------------------------------------------------------------------------------------+\n"
     ]
    }
   ],
   "source": [
    "!mysql sakila -e \"select * from film_text limit 4\""
   ]
  },
  {
   "cell_type": "code",
   "execution_count": 10,
   "id": "c8af0219-2955-464e-ae0b-636b8f21a2a7",
   "metadata": {},
   "outputs": [
    {
     "name": "stdout",
     "output_type": "stream",
     "text": [
      "+--------------+---------+----------+---------------------+\n",
      "| inventory_id | film_id | store_id | last_update         |\n",
      "+--------------+---------+----------+---------------------+\n",
      "|            1 |       1 |        1 | 2006-02-15 05:09:17 |\n",
      "|            2 |       1 |        1 | 2006-02-15 05:09:17 |\n",
      "|            3 |       1 |        1 | 2006-02-15 05:09:17 |\n",
      "|            4 |       1 |        1 | 2006-02-15 05:09:17 |\n",
      "+--------------+---------+----------+---------------------+\n"
     ]
    }
   ],
   "source": [
    "!mysql sakila -e \"select * from inventory limit 4\""
   ]
  },
  {
   "cell_type": "code",
   "execution_count": 11,
   "id": "4ef7dc05-220c-45d3-811e-95ce2defb373",
   "metadata": {},
   "outputs": [
    {
     "name": "stdout",
     "output_type": "stream",
     "text": [
      "+-------------+----------+---------------------+\n",
      "| language_id | name     | last_update         |\n",
      "+-------------+----------+---------------------+\n",
      "|           1 | English  | 2006-02-15 05:02:19 |\n",
      "|           2 | Italian  | 2006-02-15 05:02:19 |\n",
      "|           3 | Japanese | 2006-02-15 05:02:19 |\n",
      "|           4 | Mandarin | 2006-02-15 05:02:19 |\n",
      "+-------------+----------+---------------------+\n"
     ]
    }
   ],
   "source": [
    "!mysql sakila -e \"select * from language limit 4\""
   ]
  },
  {
   "cell_type": "code",
   "execution_count": 1,
   "id": "a5cc41e7-de37-48c2-8c51-f130dec5d24f",
   "metadata": {},
   "outputs": [
    {
     "name": "stdout",
     "output_type": "stream",
     "text": [
      "+-------------+------------------------------------+------+-----+---------+-------+\n",
      "| Field       | Type                               | Null | Key | Default | Extra |\n",
      "+-------------+------------------------------------+------+-----+---------+-------+\n",
      "| FID         | smallint(5) unsigned               | YES  |     | 0       |       |\n",
      "| title       | varchar(128)                       | YES  |     | NULL    |       |\n",
      "| description | text                               | YES  |     | NULL    |       |\n",
      "| category    | varchar(25)                        | NO   |     | NULL    |       |\n",
      "| price       | decimal(4,2)                       | YES  |     | 4.99    |       |\n",
      "| length      | smallint(5) unsigned               | YES  |     | NULL    |       |\n",
      "| rating      | enum('G','PG','PG-13','R','NC-17') | YES  |     | G       |       |\n",
      "| actors      | text                               | YES  |     | NULL    |       |\n",
      "+-------------+------------------------------------+------+-----+---------+-------+\n"
     ]
    }
   ],
   "source": [
    "!mysql sakila -e \"desc nicer_but_slower_film_list\""
   ]
  },
  {
   "cell_type": "code",
   "execution_count": 11,
   "id": "81de6011-94dc-482f-bf8a-b1f99c0a0d58",
   "metadata": {},
   "outputs": [
    {
     "name": "stdout",
     "output_type": "stream",
     "text": [
      "+------+------------------+------------------------------------------------------------------------------------------------------+-------------+-------+--------+--------+------------------------------------------------------------------------------------------------------------------------------------------------+\n",
      "| FID  | title            | description                                                                                          | category    | price | length | rating | actors                                                                                                                                         |\n",
      "+------+------------------+------------------------------------------------------------------------------------------------------+-------------+-------+--------+--------+------------------------------------------------------------------------------------------------------------------------------------------------+\n",
      "|    1 | ACADEMY DINOSAUR | A Epic Drama of a Feminist And a Mad Scientist who must Battle a Teacher in The Canadian Rockies     | Documentary |  0.99 |     86 | PG     | Penelope Guiness, Lucille Tracy, Sandra Peck, Johnny Cage, Mena Temple, Warren Nolte, Oprah Kilmer, Rock Dukakis, Mary Keitel, Christian Gable |\n",
      "|    2 | ACE GOLDFINGER   | A Astounding Epistle of a Database Administrator And a Explorer who must Find a Car in Ancient China | Horror      |  4.99 |     48 | G      | Chris Depp, Sean Guiness, Minnie Zellweger, Bob Fawcett                                                                                        |\n",
      "|    3 | ADAPTATION HOLES | A Astounding Reflection of a Lumberjack And a Car who must Sink a Lumberjack in A Baloon Factory     | Documentary |  2.99 |     50 | NC-17  | Nick Wahlberg, Bob Fawcett, Cameron Streep, Ray Johansson, Julianne Dench                                                                      |\n",
      "|    4 | AFFAIR PREJUDICE | A Fanciful Documentary of a Frisbee And a Lumberjack who must Chase a Monkey in A Shark Tank         | Horror      |  2.99 |    117 | G      | Oprah Kilmer, Fay Winslet, Kenneth Pesci, Scarlett Damon, Jodie Degeneres                                                                      |\n",
      "+------+------------------+------------------------------------------------------------------------------------------------------+-------------+-------+--------+--------+------------------------------------------------------------------------------------------------------------------------------------------------+\n"
     ]
    }
   ],
   "source": [
    "!mysql sakila -e \"select * from nicer_but_slower_film_list limit 4\""
   ]
  },
  {
   "cell_type": "code",
   "execution_count": 13,
   "id": "1bcc15b0-ded2-4078-a3f2-6603b8fa4722",
   "metadata": {},
   "outputs": [
    {
     "name": "stdout",
     "output_type": "stream",
     "text": [
      "+------------+-------------+----------+-----------+--------+---------------------+---------------------+\n",
      "| payment_id | customer_id | staff_id | rental_id | amount | payment_date        | last_update         |\n",
      "+------------+-------------+----------+-----------+--------+---------------------+---------------------+\n",
      "|          1 |           1 |        1 |        76 |   2.99 | 2005-05-25 11:30:37 | 2006-02-15 22:12:30 |\n",
      "|          2 |           1 |        1 |       573 |   0.99 | 2005-05-28 10:35:23 | 2006-02-15 22:12:30 |\n",
      "|          3 |           1 |        1 |      1185 |   5.99 | 2005-06-15 00:54:12 | 2006-02-15 22:12:30 |\n",
      "|          4 |           1 |        2 |      1422 |   0.99 | 2005-06-15 18:02:53 | 2006-02-15 22:12:30 |\n",
      "+------------+-------------+----------+-----------+--------+---------------------+---------------------+\n"
     ]
    }
   ],
   "source": [
    "!mysql sakila -e \"select * from payment limit 4\""
   ]
  },
  {
   "cell_type": "code",
   "execution_count": 14,
   "id": "e5ad3100-8a5d-4d7a-ac76-b9d44365be64",
   "metadata": {},
   "outputs": [
    {
     "name": "stdout",
     "output_type": "stream",
     "text": [
      "+-----------+---------------------+--------------+-------------+---------------------+----------+---------------------+\n",
      "| rental_id | rental_date         | inventory_id | customer_id | return_date         | staff_id | last_update         |\n",
      "+-----------+---------------------+--------------+-------------+---------------------+----------+---------------------+\n",
      "|         1 | 2005-05-24 22:53:30 |          367 |         130 | 2005-05-26 22:04:30 |        1 | 2006-02-15 21:30:53 |\n",
      "|         2 | 2005-05-24 22:54:33 |         1525 |         459 | 2005-05-28 19:40:33 |        1 | 2006-02-15 21:30:53 |\n",
      "|         3 | 2005-05-24 23:03:39 |         1711 |         408 | 2005-06-01 22:12:39 |        1 | 2006-02-15 21:30:53 |\n",
      "|         4 | 2005-05-24 23:04:41 |         2452 |         333 | 2005-06-03 01:43:41 |        2 | 2006-02-15 21:30:53 |\n",
      "+-----------+---------------------+--------------+-------------+---------------------+----------+---------------------+\n"
     ]
    }
   ],
   "source": [
    "!mysql sakila -e \"select * from rental limit 4\""
   ]
  },
  {
   "cell_type": "code",
   "execution_count": 15,
   "id": "a0439e01-9f04-4485-a78a-acebc2930af2",
   "metadata": {},
   "outputs": [
    {
     "name": "stdout",
     "output_type": "stream",
     "text": [
      "+-----------+-------------+\n",
      "| category  | total_sales |\n",
      "+-----------+-------------+\n",
      "| Sports    |     5314.21 |\n",
      "| Sci-Fi    |     4756.98 |\n",
      "| Animation |     4656.30 |\n",
      "| Drama     |     4587.39 |\n",
      "+-----------+-------------+\n"
     ]
    }
   ],
   "source": [
    "!mysql sakila -e \"select * from sales_by_film_category limit 4\""
   ]
  },
  {
   "cell_type": "code",
   "execution_count": 32,
   "id": "c56b50f4-be97-4997-81df-8c28e249fead",
   "metadata": {},
   "outputs": [
    {
     "name": "stdout",
     "output_type": "stream",
     "text": [
      "+---------------------+--------------+-------------+\n",
      "| store               | manager      | total_sales |\n",
      "+---------------------+--------------+-------------+\n",
      "| Woodridge,Australia | Jon Stephens |    33726.77 |\n",
      "+---------------------+--------------+-------------+\n"
     ]
    }
   ],
   "source": [
    "!mysql sakila -e \"select * from sales_by_store limit 1\""
   ]
  },
  {
   "cell_type": "code",
   "execution_count": 8,
   "id": "1d00a079-e118-4187-a6b2-42f12696992d",
   "metadata": {},
   "outputs": [
    {
     "name": "stdout",
     "output_type": "stream",
     "text": [
      "+-------------+----------------------+------+-----+-------------------+-----------------------------------------------+\n",
      "| Field       | Type                 | Null | Key | Default           | Extra                                         |\n",
      "+-------------+----------------------+------+-----+-------------------+-----------------------------------------------+\n",
      "| staff_id    | tinyint(3) unsigned  | NO   | PRI | NULL              | auto_increment                                |\n",
      "| first_name  | varchar(45)          | NO   |     | NULL              |                                               |\n",
      "| last_name   | varchar(45)          | NO   |     | NULL              |                                               |\n",
      "| address_id  | smallint(5) unsigned | NO   | MUL | NULL              |                                               |\n",
      "| picture     | blob                 | YES  |     | NULL              |                                               |\n",
      "| email       | varchar(50)          | YES  |     | NULL              |                                               |\n",
      "| store_id    | tinyint(3) unsigned  | NO   | MUL | NULL              |                                               |\n",
      "| active      | tinyint(1)           | NO   |     | 1                 |                                               |\n",
      "| username    | varchar(16)          | NO   |     | NULL              |                                               |\n",
      "| password    | varchar(40)          | YES  |     | NULL              |                                               |\n",
      "| last_update | timestamp            | NO   |     | CURRENT_TIMESTAMP | DEFAULT_GENERATED on update CURRENT_TIMESTAMP |\n",
      "+-------------+----------------------+------+-----+-------------------+-----------------------------------------------+\n"
     ]
    }
   ],
   "source": [
    "!mysql sakila -e \"desc staff\""
   ]
  },
  {
   "cell_type": "code",
   "execution_count": 10,
   "id": "c7c073c4-40a9-4035-85ac-e0e92c3b4290",
   "metadata": {},
   "outputs": [
    {
     "name": "stdout",
     "output_type": "stream",
     "text": [
      "+----------+------------+-----------+------------------------------+\n",
      "| staff_id | first_name | last_name | email                        |\n",
      "+----------+------------+-----------+------------------------------+\n",
      "|        1 | Mike       | Hillyer   | Mike.Hillyer@sakilastaff.com |\n",
      "+----------+------------+-----------+------------------------------+\n"
     ]
    }
   ],
   "source": [
    "!mysql sakila -e \"select staff_id, first_name, last_name, email from staff limit 1\""
   ]
  },
  {
   "cell_type": "code",
   "execution_count": 20,
   "id": "1b0791d1-782e-4016-aad5-5c8043423dec",
   "metadata": {},
   "outputs": [
    {
     "name": "stdout",
     "output_type": "stream",
     "text": [
      "+----+--------------+-------------------+----------+-------------+------------+---------+-----+\n",
      "| ID | name         | address           | zip code | phone       | city       | country | SID |\n",
      "+----+--------------+-------------------+----------+-------------+------------+---------+-----+\n",
      "|  1 | Mike Hillyer | 23 Workhaven Lane |          | 14033335568 | Lethbridge | Canada  |   1 |\n",
      "+----+--------------+-------------------+----------+-------------+------------+---------+-----+\n"
     ]
    }
   ],
   "source": [
    "!mysql sakila -e \"select * from staff_list limit 1\""
   ]
  },
  {
   "cell_type": "code",
   "execution_count": 21,
   "id": "3c50b73f-879b-4ad9-b3d0-2c84822a0916",
   "metadata": {},
   "outputs": [
    {
     "name": "stdout",
     "output_type": "stream",
     "text": [
      "+----------+------------------+------------+---------------------+\n",
      "| store_id | manager_staff_id | address_id | last_update         |\n",
      "+----------+------------------+------------+---------------------+\n",
      "|        1 |                1 |          1 | 2006-02-15 04:57:12 |\n",
      "+----------+------------------+------------+---------------------+\n"
     ]
    }
   ],
   "source": [
    "!mysql sakila -e \"select * from store limit 1\""
   ]
  },
  {
   "cell_type": "code",
   "execution_count": null,
   "id": "e5b6fb87-3768-4222-9f36-39a497a91db5",
   "metadata": {},
   "outputs": [],
   "source": [
    "# select PG-rated films and order by length, ascending"
   ]
  },
  {
   "cell_type": "code",
   "execution_count": 28,
   "id": "1a81ffe2-6ac3-4979-9aa4-36f05a801618",
   "metadata": {},
   "outputs": [
    {
     "name": "stdout",
     "output_type": "stream",
     "text": [
      "+------------------------+\n",
      "| title                  |\n",
      "+------------------------+\n",
      "| IRON MOON              |\n",
      "| SHANGHAI TYCOON        |\n",
      "| SUSPECTS QUILLS        |\n",
      "| HEAVEN FREEDOM         |\n",
      "| PELICAN COMFORTS       |\n",
      "| RUSH GOODFELLAS        |\n",
      "| HURRICANE AFFAIR       |\n",
      "| LION UNCUT             |\n",
      "| MUPPET MILE            |\n",
      "| PILOT HOOSIERS         |\n",
      "| CHAMPION FLATLINERS    |\n",
      "| FRISCO FORREST         |\n",
      "| TROJAN TOMORROW        |\n",
      "| MOVIE SHAKESPEARE      |\n",
      "| TEQUILA PAST           |\n",
      "| COAST RAINBOW          |\n",
      "| GOODFELLAS SALUTE      |\n",
      "| DAWN POND              |\n",
      "| JEKYLL FROGMEN         |\n",
      "| OKLAHOMA JUMANJI       |\n",
      "| SUPER WYOMING          |\n",
      "| LEGEND JEDI            |\n",
      "| JERSEY SASSY           |\n",
      "| MOCKINGBIRD HOLLYWOOD  |\n",
      "| ROOM ROMAN             |\n",
      "| CHINATOWN GLADIATOR    |\n",
      "| POLISH BROOKLYN        |\n",
      "| TROUBLE DATE           |\n",
      "| MILE MULAN             |\n",
      "| LOVELY JINGLE          |\n",
      "| PATRIOT ROMAN          |\n",
      "| CHARADE DUFFEL         |\n",
      "| EGG IGBY               |\n",
      "| LADY STAGE             |\n",
      "| TOMATOES HELLFIGHTERS  |\n",
      "| HOLLYWOOD ANONYMOUS    |\n",
      "| WEDDING APOLLO         |\n",
      "| TEMPLE ATTRACTION      |\n",
      "| FICTION CHRISTMAS      |\n",
      "| BEDAZZLED MARRIED      |\n",
      "| MUSKETEERS WAIT        |\n",
      "| MODERN DORADO          |\n",
      "| RAINBOW SHOCK          |\n",
      "| SILVERADO GOLDFINGER   |\n",
      "| HELLFIGHTERS SIERRA    |\n",
      "| NEWTON LABYRINTH       |\n",
      "| WIZARD COLDBLOODED     |\n",
      "| WATCH TRACY            |\n",
      "| LOSER HUSTLER          |\n",
      "| PEAK FOREVER           |\n",
      "| SEA VIRGIN             |\n",
      "| SHAWSHANK BUBBLE       |\n",
      "| FROST HEAD             |\n",
      "| MOON BUNCH             |\n",
      "| UPTOWN YOUNG           |\n",
      "| BLACKOUT PRIVATE       |\n",
      "| EGYPT TENENBAUMS       |\n",
      "| LOLA AGENT             |\n",
      "| STAGE WORLD            |\n",
      "| WASTELAND DIVINE       |\n",
      "| ACADEMY DINOSAUR       |\n",
      "| TREATMENT JEKYLL       |\n",
      "| SECRET GROUNDHOG       |\n",
      "| FATAL HAUNTED          |\n",
      "| TITANS JERK            |\n",
      "| OPPOSITE NECKLACE      |\n",
      "| BILL OTHERS            |\n",
      "| SHANE DARKNESS         |\n",
      "| FULL FLATLINERS        |\n",
      "| HORN WORKING           |\n",
      "| DRUMS DYNAMITE         |\n",
      "| EXPENDABLE STALLION    |\n",
      "| INVASION CYCLONE       |\n",
      "| BOUND CHEAPER          |\n",
      "| SENSIBILITY REAR       |\n",
      "| FRENCH HOLIDAY         |\n",
      "| PET HAUNTING           |\n",
      "| SABRINA MIDNIGHT       |\n",
      "| BEHAVIOR RUNAWAY       |\n",
      "| PIRATES ROXANNE        |\n",
      "| PUNK DIVORCE           |\n",
      "| CIDER DESIRE           |\n",
      "| BOILED DARES           |\n",
      "| PINOCCHIO SIMON        |\n",
      "| CROW GREASE            |\n",
      "| WON DARES              |\n",
      "| DALMATIONS SWEDEN      |\n",
      "| GASLIGHT CRUSADE       |\n",
      "| PRIVATE DROP           |\n",
      "| EFFECT GLADIATOR       |\n",
      "| HATE HANDICAP          |\n",
      "| MONSTER SPARTACUS      |\n",
      "| PARTY KNOCK            |\n",
      "| SNATCH SLIPPER         |\n",
      "| WONDERLAND CHRISTMAS   |\n",
      "| AMADEUS HOLY           |\n",
      "| LEGALLY SECRETARY      |\n",
      "| CARRIE BUNCH           |\n",
      "| CHAINSAW UPTOWN        |\n",
      "| CHASING FIGHT          |\n",
      "| SUGAR WONKA            |\n",
      "| SUPERFLY TRIP          |\n",
      "| OSCAR GOLD             |\n",
      "| POTTER CONNECTICUT     |\n",
      "| INSTINCT AIRPORT       |\n",
      "| WORDS HUNTER           |\n",
      "| GRAFFITI LOVE          |\n",
      "| MAGIC MALLRATS         |\n",
      "| RESURRECTION SILVERADO |\n",
      "| JAWBREAKER BROOKLYN    |\n",
      "| OTHERS SOUP            |\n",
      "| PATHS CONTROL          |\n",
      "| ARIZONA BANG           |\n",
      "| BRANNIGAN SUNRISE      |\n",
      "| DANGEROUS UPTOWN       |\n",
      "| CHICKEN HELLFIGHTERS   |\n",
      "| MIGHTY LUCK            |\n",
      "| HOLES BRANNIGAN        |\n",
      "| JEDI BENEATH           |\n",
      "| PAPI NECKLACE          |\n",
      "| UNFORGIVEN ZOOLANDER   |\n",
      "| MAJESTIC FLOATS        |\n",
      "| OPEN AFRICAN           |\n",
      "| NECKLACE OUTBREAK      |\n",
      "| SKY MIRACLE            |\n",
      "| VOLUME HOUSE           |\n",
      "| BUCKET BROTHERHOOD     |\n",
      "| MALLRATS UNITED        |\n",
      "| DREAM PICKUP           |\n",
      "| MONEY HAROLD           |\n",
      "| WALLS ARTIST           |\n",
      "| ALASKA PHANTOM         |\n",
      "| BRINGING HYSTERICAL    |\n",
      "| CRAZY HOME             |\n",
      "| SQUAD FISH             |\n",
      "| ARSENIC INDEPENDENCE   |\n",
      "| GRIT CLOCKWORK         |\n",
      "| POLLOCK DELIVERANCE    |\n",
      "| SLEEPY JAPANESE        |\n",
      "| MAIDEN HOME            |\n",
      "| LIAISONS SWEET         |\n",
      "| STEERS ARMAGEDDON      |\n",
      "| DISCIPLE MOTHER        |\n",
      "| CHILL LUCK             |\n",
      "| FERRIS MOTHER          |\n",
      "| PRESIDENT BANG         |\n",
      "| COWBOY DOOM            |\n",
      "| MOURNING PURPLE        |\n",
      "| RANGE MOONWALKER       |\n",
      "| SLUMS DUCK             |\n",
      "| FIREBALL PHILADELPHIA  |\n",
      "| TELEGRAPH VOYAGE       |\n",
      "| NIGHTMARE CHILL        |\n",
      "| ALI FOREVER            |\n",
      "| HYSTERICAL GRAIL       |\n",
      "| CAROL TEXAS            |\n",
      "| CENTER DINOSAUR        |\n",
      "| TWISTED PIRATES        |\n",
      "| WAGON JAWS             |\n",
      "| SANTA PARIS            |\n",
      "| TADPOLE PARK           |\n",
      "| MULHOLLAND BEAST       |\n",
      "| TOOTSIE PILOT          |\n",
      "| FOOL MOCKINGBIRD       |\n",
      "| SECRETARY ROUGE        |\n",
      "| STOCK GLASS            |\n",
      "| GABLES METROPOLIS      |\n",
      "| MASSAGE IMAGE          |\n",
      "| OLEANDER CLUE          |\n",
      "| BIRCH ANTITRUST        |\n",
      "| EVERYONE CRAFT         |\n",
      "| QUEEN LUKE             |\n",
      "| MOTIONS DETAILS        |\n",
      "| MURDER ANTITRUST       |\n",
      "| DYING MAKER            |\n",
      "| AGENT TRUMAN           |\n",
      "| KENTUCKIAN GIANT       |\n",
      "| TRADING PINOCCHIO      |\n",
      "| TRAMP OTHERS           |\n",
      "| NORTHWEST POLISH       |\n",
      "| GLADIATOR WESTWARD     |\n",
      "| TALENTED HOMICIDE      |\n",
      "| PATTON INTERVIEW       |\n",
      "| SPLASH GUMP            |\n",
      "| CYCLONE FAMILY         |\n",
      "| GREEK EVERYONE         |\n",
      "| SWEDEN SHINING         |\n",
      "| MANCHURIAN CURTAIN     |\n",
      "| RIDER CADDYSHACK       |\n",
      "| BORN SPINAL            |\n",
      "| STAR OPERATION         |\n",
      "| MONSOON CAUSE          |\n",
      "| RECORDS ZORRO          |\n",
      "| WORST BANGER           |\n",
      "+------------------------+\n"
     ]
    }
   ],
   "source": [
    "!mysql sakila -e \"select title from film where rating = 'PG' order by length\""
   ]
  },
  {
   "cell_type": "code",
   "execution_count": null,
   "id": "eb0f56dc-ac3b-4419-979f-2ad052ce80d1",
   "metadata": {},
   "outputs": [],
   "source": [
    "# creating a new record for \"Walt Whitman\" in the actor table"
   ]
  },
  {
   "cell_type": "code",
   "execution_count": 20,
   "id": "fc098ccf-4710-48c4-b3fc-9fc83565827c",
   "metadata": {},
   "outputs": [],
   "source": [
    "!mysql sakila -e \"insert into actor (actor_id, first_name, last_name) values (201, 'Walt', 'Whitman')\""
   ]
  },
  {
   "cell_type": "code",
   "execution_count": null,
   "id": "102479a0-bdec-44c5-aa85-aa18a016c281",
   "metadata": {},
   "outputs": [],
   "source": [
    "# checking new record was successfully inserted"
   ]
  },
  {
   "cell_type": "code",
   "execution_count": null,
   "id": "5c7d0f19-2ef0-4f7d-bd41-5a3afc4b0558",
   "metadata": {},
   "outputs": [],
   "source": [
    "!mysql sakila -e \"select first_name, last_name from actor where actor_id = 201\""
   ]
  },
  {
   "cell_type": "code",
   "execution_count": null,
   "id": "c1abf3b4-edcf-4d97-ba5e-a05976b272b3",
   "metadata": {},
   "outputs": [],
   "source": [
    "# creating Update statement updating zip code for Mike Hillyer from staff_list table "
   ]
  },
  {
   "cell_type": "code",
   "execution_count": null,
   "id": "77f6734f-db29-467b-b50d-ede55cf089ab",
   "metadata": {},
   "outputs": [],
   "source": [
    "!mysql sakila -e \"alter table staff_list where SID = '201' set zip code = '78747\""
   ]
  },
  {
   "cell_type": "code",
   "execution_count": null,
   "id": "5400e316-698e-464c-aa21-ae05f323380a",
   "metadata": {},
   "outputs": [],
   "source": [
    "# creating delete statement to delete \"Walt Whitman\" record from actor table "
   ]
  },
  {
   "cell_type": "code",
   "execution_count": null,
   "id": "5083d9db-f555-45d4-8eef-7f4534db2f9b",
   "metadata": {},
   "outputs": [],
   "source": [
    "!mysql sakila -e \"delete from actor (actor_id, first_name, last_name) values(201, 'Walt', 'Whitman')\""
   ]
  }
 ],
 "metadata": {
  "environment": {
   "kernel": "python3",
   "name": "common-cpu.m87",
   "type": "gcloud",
   "uri": "gcr.io/deeplearning-platform-release/base-cpu:m87"
  },
  "kernelspec": {
   "display_name": "Python 3",
   "language": "python",
   "name": "python3"
  },
  "language_info": {
   "codemirror_mode": {
    "name": "ipython",
    "version": 3
   },
   "file_extension": ".py",
   "mimetype": "text/x-python",
   "name": "python",
   "nbconvert_exporter": "python",
   "pygments_lexer": "ipython3",
   "version": "3.7.12"
  }
 },
 "nbformat": 4,
 "nbformat_minor": 5
}
