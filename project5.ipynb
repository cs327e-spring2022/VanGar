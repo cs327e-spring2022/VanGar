{
 "cells": [
  {
   "cell_type": "code",
   "execution_count": 1,
   "id": "64339a6d-54be-42f6-aed1-1b0c7d32d705",
   "metadata": {},
   "outputs": [
    {
     "name": "stdout",
     "output_type": "stream",
     "text": [
      "env: BASE_DIR=/home/jupyter\n"
     ]
    }
   ],
   "source": [
    "%env BASE_DIR=/home/jupyter"
   ]
  },
  {
   "cell_type": "code",
   "execution_count": 26,
   "id": "30450431-69b8-40b8-a8c1-630d34d40608",
   "metadata": {},
   "outputs": [
    {
     "name": "stdout",
     "output_type": "stream",
     "text": [
      "Copying gs://cs327e-open-access/shopify.zip...\n",
      "/ [1 files][  3.2 MiB/  3.2 MiB]                                                \n",
      "Operation completed over 1 objects/3.2 MiB.                                      \n"
     ]
    }
   ],
   "source": [
    "!gsutil cp gs://cs327e-open-access/shopify.zip $BASE_DIR"
   ]
  },
  {
   "cell_type": "code",
   "execution_count": 6,
   "id": "8b4bd75a-3b3a-42fb-be36-bdb0a30124ac",
   "metadata": {},
   "outputs": [
    {
     "name": "stdout",
     "output_type": "stream",
     "text": [
      "Archive:  /home/jupyter/shopify.zip\n",
      "   creating: shopify/\n",
      "  inflating: __MACOSX/._shopify      \n",
      "  inflating: shopify/apps_categories.csv  \n",
      "  inflating: __MACOSX/shopify/._apps_categories.csv  \n",
      "  inflating: shopify/categories.csv  \n",
      "  inflating: __MACOSX/shopify/._categories.csv  \n",
      "  inflating: shopify/reviews.csv     \n",
      "  inflating: __MACOSX/shopify/._reviews.csv  \n",
      "  inflating: shopify/.DS_Store       \n",
      "  inflating: __MACOSX/shopify/._.DS_Store  \n",
      "  inflating: shopify/key_benefits.csv  \n",
      "  inflating: __MACOSX/shopify/._key_benefits.csv  \n",
      "  inflating: shopify/pricing_plan_features.csv  \n",
      "  inflating: __MACOSX/shopify/._pricing_plan_features.csv  \n",
      "  inflating: shopify/pricing_plans.csv  \n",
      "  inflating: __MACOSX/shopify/._pricing_plans.csv  \n",
      "  inflating: shopify/apps.csv        \n",
      "  inflating: __MACOSX/shopify/._apps.csv  \n"
     ]
    }
   ],
   "source": [
    "!unzip $BASE_DIR/shopify.zip"
   ]
  },
  {
   "cell_type": "code",
   "execution_count": 28,
   "id": "da900a46-b09d-48da-984f-9589031a2b06",
   "metadata": {},
   "outputs": [],
   "source": [
    "import pandas as pd\n",
    "import uuid\n",
    "from google.cloud import firestore\n",
    "db = firestore.Client()\n",
    "batch = db.batch()\n",
    "\n",
    "df = pd.read_csv('shopify/reviews.csv', sep=',', header=0, lineterminator='\\n')\n",
    "rows = df.values.tolist()\n",
    "\n",
    "count = 0\n",
    "for row in rows:\n",
    "    record = {}\n",
    "    record['app_id'] = row[0]\n",
    "    record['author'] = row[1]\n",
    "    record['rating'] = row[2]\n",
    "    record['posted_at'] = row[3]\n",
    "    \n",
    "    review_id = str(uuid.uuid4())\n",
    "    review_ref = db.collection('reviews').document(review_id)\n",
    "    batch.set(review_ref, record)\n",
    "    count += 1\n",
    "    if count > 400:\n",
    "        count = 0\n",
    "        batch.commit()\n",
    "        batch = db.batch()"
   ]
  },
  {
   "cell_type": "code",
   "execution_count": 29,
   "id": "25e62a0d-d2e1-4067-9598-72ebbfdb8a07",
   "metadata": {},
   "outputs": [],
   "source": [
    "import pandas as pd\n",
    "from google.cloud import firestore\n",
    "db = firestore.Client()\n",
    "batch = db.batch()\n",
    "\n",
    "df = pd.read_csv('shopify/categories.csv', sep=',', header=0, lineterminator='\\n')\n",
    "category_rows = df.values.tolist()\n",
    "\n",
    "df = pd.read_csv('shopify/apps_categories.csv', sep=',', header=0, lineterminator='\\n')\n",
    "app_category_rows = df.values.tolist()\n",
    "\n",
    "df = pd.read_csv('shopify/apps.csv', sep=',', header=0, lineterminator='\\n')\n",
    "app_rows = df.values.tolist()\n",
    "\n",
    "count = 0\n",
    "for category_row in category_rows:\n",
    "    record = {}\n",
    "    record['id'] = category_row[0]\n",
    "    record['title'] = category_row[1]\n",
    "    \n",
    "    category_ref = db.collection('categories').document(category_row[0])\n",
    "    batch.set(category_ref, record)\n",
    "    \n",
    "    \n",
    "    for app_category_row in app_category_rows:\n",
    "        if category_row[0] == app_category_row[1]:\n",
    "            ac_record = {}\n",
    "            ac_record['app_id'] = app_category_row[0]\n",
    "            ac_record['category_id'] = app_category_row[1]\n",
    "            \n",
    "            ac_id = str(uuid.uuid4())\n",
    "            ac_ref = category_ref.collection('apps_categories').document(ac_id)\n",
    "            \n",
    "            batch.set(ac_ref, ac_record)\n",
    "            \n",
    "            for app_row in app_rows:\n",
    "                if app_category_row[0] == app_row[0]:\n",
    "                    \n",
    "                    app_record = {}\n",
    "                    app_record['app_id'] = app_row[0]\n",
    "                    app_record['url'] = app_row[1]\n",
    "                    app_record['title'] = app_row[2]\n",
    "                    app_record['developer'] = app_row[3]\n",
    "                    app_record['developer_link'] = app_row[4]\n",
    "                    app_record['icon'] = app_row[5]\n",
    "                    app_record['rating'] = app_row[6]\n",
    "                    app_record['reviews_count'] = app_row[7]\n",
    "            \n",
    "                    app_ref = ac_ref.collection('apps').document(app_row[0])\n",
    "                    batch.set(app_ref, app_record)\n",
    "                    count += 1\n",
    "                    if count > 400:\n",
    "                        count = 0\n",
    "                    batch.commit()\n",
    "                    batch = db.batch()"
   ]
  },
  {
   "cell_type": "code",
   "execution_count": 30,
   "id": "0149b2bf-1583-4130-8797-a387f97e5fd5",
   "metadata": {},
   "outputs": [],
   "source": [
    "import pandas as pd\n",
    "import uuid\n",
    "from google.cloud import firestore\n",
    "db = firestore.Client()\n",
    "batch = db.batch()\n",
    "\n",
    "df = pd.read_csv('shopify/apps.csv', sep=',', header=0, lineterminator='\\n')\n",
    "app_rows = df.values.tolist()\n",
    "\n",
    "df = pd.read_csv('shopify/key_benefits.csv', sep=',', header=0, lineterminator='\\n')\n",
    "benefit_rows = df.values.tolist()\n",
    "\n",
    "df = pd.read_csv('shopify/pricing_plans.csv', sep=',', header=0, lineterminator='\\n')\n",
    "pp_rows = df.values.tolist()\n",
    "\n",
    "df = pd.read_csv('shopify/pricing_plan_features.csv', sep=',', header=0, lineterminator='\\n')\n",
    "ppf_rows = df.values.tolist()\n",
    "\n",
    "for app_row in app_rows:\n",
    "    app_record = {}\n",
    "    app_record['id'] = app_row[0]\n",
    "    app_record['url'] = app_row[1]\n",
    "    app_record['title'] = app_row[2]\n",
    "    app_record['developer'] = app_row[3]\n",
    "    app_record['developer_link'] = app_row[4]\n",
    "    app_record['icon'] = app_row[5]\n",
    "    app_record['rating'] = app_row[6]\n",
    "    app_record['reviews_count'] = app_row[7]\n",
    "    \n",
    "    app_ref = db.collection('apps').document(app_row[0])\n",
    "    \n",
    "    batch.set(app_ref, app_record)\n",
    "    \n",
    "    for benefit_row in benefit_rows:\n",
    "        if app_row[0] == benefit_row[0]:\n",
    "            benefit_record = {}\n",
    "            benefit_record['title'] = benefit_row[1]\n",
    "            benefit_record['description'] = benefit_row[2]\n",
    "            \n",
    "            benefit_id = str(uuid.uuid4())\n",
    "            benefit_ref = app_ref.collection('key benefits').document(benefit_id)\n",
    "            \n",
    "            batch.set(benefit_ref, benefit_record)\n",
    "            \n",
    "    for pp_row in pp_rows:\n",
    "        if app_row[0] == pp_row[1]:\n",
    "            pp_record = {}\n",
    "            pp_record['id'] = pp_row[0]\n",
    "            pp_record['title'] = pp_row[2]\n",
    "            pp_record['price'] = pp_row[3]\n",
    "            \n",
    "            pp_ref = app_ref.collection('pricing plans').document(pp_row[0])\n",
    "            \n",
    "            batch.set(pp_ref, pp_record)\n",
    "            \n",
    "            for ppf_row in ppf_rows:\n",
    "                if pp_row[0] == ppf_row[1]:\n",
    "                    ppf_record = {}\n",
    "                    ppf_record['feature'] = ppf_row[2]\n",
    "                    \n",
    "                    ppf_id = str(uuid.uuid4())\n",
    "                    ppf_ref = pp_ref.collection('features').document(ppf_id)\n",
    "                    \n",
    "                    batch.set(ppf_ref, ppf_record)\n",
    "            \n",
    "    batch.commit()\n",
    "    \n",
    "    "
   ]
  },
  {
   "cell_type": "code",
   "execution_count": 31,
   "id": "0a8ffefa-7f4d-4902-a212-73ce8df81ece",
   "metadata": {},
   "outputs": [
    {
     "name": "stdout",
     "output_type": "stream",
     "text": [
      "There are 3547 documents in the apps collection\n",
      "There are 19202 documents in the key benefits subcollection\n",
      "There are 6275 documents in the pricing plans subcollection\n"
     ]
    }
   ],
   "source": [
    "from google.cloud import firestore\n",
    "db = firestore.Client()\n",
    "\n",
    "apps_ref = db.collection('apps')\n",
    "count = 0\n",
    "benefit_count = 0\n",
    "plan_count = 0\n",
    "for results in apps_ref.stream():\n",
    "    count += 1\n",
    "    for ben in apps_ref.document(results.id).collection('key benefits').stream():\n",
    "        benefit_count += 1\n",
    "    for plan in apps_ref.document(results.id).collection('pricing plans').stream():\n",
    "        plan_count += 1\n",
    "print('There are ' + str(count) + ' documents in the apps collection')\n",
    "print('There are ' + str(sub_count) + ' documents in the key benefits subcollection')\n",
    "print('There are ' + str(plan_count) + ' documents in the pricing plans subcollection')"
   ]
  },
  {
   "cell_type": "code",
   "execution_count": 32,
   "id": "a7ffd156-2be6-4fca-b43f-05f61bb08376",
   "metadata": {},
   "outputs": [
    {
     "name": "stdout",
     "output_type": "stream",
     "text": [
      "There are 13 documents in the categories collection\n",
      "There are 16149 documents in the app categories subcollection\n"
     ]
    }
   ],
   "source": [
    "from google.cloud import firestore\n",
    "db = firestore.Client()\n",
    "\n",
    "cats_ref = db.collection('categories')\n",
    "count = 0\n",
    "appc_count = 0\n",
    "for result in cats_ref.stream():\n",
    "    count += 1\n",
    "    for appcat in cats_ref.document(result.id).collection('apps_categories').stream():\n",
    "        appc_count += 1\n",
    "print('There are ' + str(count) + ' documents in the categories collection')\n",
    "print('There are ' + str(appc_count) + ' documents in the app categories subcollection')"
   ]
  },
  {
   "cell_type": "markdown",
   "id": "263156a1-3cf3-4f6a-9335-103483aa0057",
   "metadata": {},
   "source": [
    "Top 10 Productivity Apps (whose categories.title = \"Productivity\") sorted\n",
    "by their rating in descending order. Return the id, title, developer, rating and\n",
    "reviews_count for those apps. Limit the results to the first 10 records."
   ]
  },
  {
   "cell_type": "code",
   "execution_count": 52,
   "id": "ca5136e9-3a7b-4742-8fee-ae355df0d130",
   "metadata": {},
   "outputs": [],
   "source": [
    "from google.cloud import firestore\n",
    "db = firestore.Client() \n",
    "\n",
    "cats_ref = db.collection('categories')\n",
    "query = cats_ref.where('title', '==', 'Productivity').order_by(\n",
    "    'rating', \"DESCENDING\").limit(10) \n",
    "results = query.stream()\n",
    "\n",
    "for doc in results:\n",
    "    print('Document: ' + str(doc.to_dict()))\n",
    "    \n"
   ]
  },
  {
   "cell_type": "code",
   "execution_count": 44,
   "id": "f727c86d-f3ed-4084-966f-2c82bdfd9975",
   "metadata": {},
   "outputs": [
    {
     "name": "stdout",
     "output_type": "stream",
     "text": [
      "Document: {'developer_link': 'https://apps.shopify.com/partners/privy', 'url': 'https://apps.shopify.com/privy', 'icon': 'https://apps.shopifycdn.com/listing_images/f3d61c764a54b22aed51cd1cc31b5a74/icon/620368ed2c537a42eaa1dc82593622e3.png?height=84&width=84', 'title': 'Privy ‑ Exit Pop Ups & Email', 'reviews_count': 23078, 'id': 'd9f142ee-b141-4dc4-9353-173db61d2eb0', 'rating': 4.7, 'developer': 'Privy'}\n",
      "Document: {'reviews_count': 8737, 'id': '78ea0810-c008-4a4e-a82f-de0c790e3286', 'url': 'https://apps.shopify.com/free-shipping-bar', 'developer': 'Hextom', 'developer_link': 'https://apps.shopify.com/partners/hextom', 'rating': 4.9, 'icon': 'https://apps.shopifycdn.com/listing_images/635cce572624d1086ac37403cf25b5ee/icon/390b8ec270438793fd37f05da12ee6bb.png?height=84&width=84', 'title': 'Free Shipping Bar'}\n",
      "Document: {'reviews_count': 6905, 'rating': 4.8, 'developer_link': 'https://apps.shopify.com/partners/carlsapps', 'id': 'b88488b0-9912-44d3-b736-224c36f09d95', 'icon': 'https://apps.shopifycdn.com/listing_images/15323799e5eda63156274a76cfd4e2a8/icon/6124eb902e3f65dad989b5f4d1978401.png?height=84&width=84', 'url': 'https://apps.shopify.com/shoppop', 'developer': 'CartKit', 'title': 'Sales Pop ‑ Popup Notification'}\n",
      "Document: {'rating': 4.8, 'id': 'e528a60e-94f8-4e92-80e2-5bc6013b8283', 'reviews_count': 5986, 'developer_link': 'https://apps.shopify.com/partners/grizzlyapps', 'developer': 'Grizzly Apps', 'url': 'https://apps.shopify.com/doubly-currency-converter', 'icon': 'https://apps.shopifycdn.com/listing_images/0acf71ea227f225b08ce559a9b6ee9ec/icon/14e5c324251fe3a285da99d10aa03923.png?height=84&width=84', 'title': 'BEST Currency Converter'}\n",
      "Document: {'rating': 4.8, 'icon': 'https://apps.shopifycdn.com/listing_images/00d1725603ef779b9b9c74fffd60a7e5/icon/db351fdf52f00b686cf2d36f2feefe9f.png?height=84&width=84', 'title': 'Recart FB Messenger Marketing', 'reviews_count': 5596, 'developer_link': 'https://apps.shopify.com/partners/developer-ed9816007995e362', 'url': 'https://apps.shopify.com/recart', 'developer': 'Recart', 'id': 'be2640c4-01b5-4d52-9f68-cae8c0734d0d'}\n",
      "Document: {'reviews_count': 5259, 'icon': 'https://apps.shopifycdn.com/listing_images/56e3847f6992e05a68032562b35608e0/icon/994b5e5a95ef8e021f7cb5266db0354b.png?height=84&width=84', 'developer': 'Booster Apps', 'rating': 4.7, 'id': '70bff9e0-4316-4cc6-84ce-92fcd1bc6925', 'url': 'https://apps.shopify.com/eu-cookie-bar', 'developer_link': 'https://apps.shopify.com/partners/booster-apps', 'title': 'EU Cookie Bar ‑ Cookie GDPR'}\n",
      "Document: {'icon': 'https://apps.shopifycdn.com/listing_images/18d54dc3ff21731dc43145d85b05aeec/icon/0f9931d1ddccc42bb9723220926808ee.jpg?height=84&quality=90&width=84', 'url': 'https://apps.shopify.com/sales-pop-master', 'id': '171816e2-27d4-4552-a65e-ab44a312fe04', 'reviews_count': 4931, 'rating': 4.8, 'title': 'Sales Pop Master ‑ Countdown', 'developer_link': 'https://apps.shopify.com/partners/autoketing', 'developer': 'Autoketing'}\n",
      "Document: {'icon': 'https://apps.shopifycdn.com/listing_images/999f9fea413c682a9ef65825272813e8/icon/07cb38a905635821345abb60e89c4159.png?height=84&width=84', 'rating': 4.8, 'title': 'Ultimate Sales Boost', 'developer_link': 'https://apps.shopify.com/partners/hextom', 'url': 'https://apps.shopify.com/ultimate-sales-boost', 'developer': 'Hextom', 'id': '9025eff0-d714-4df1-930f-43f5582979ad', 'reviews_count': 4847}\n",
      "Document: {'developer': 'Varinode, Inc.', 'title': 'Ads by Varinode', 'icon': 'https://apps.shopifycdn.com/listing_images/138a7d5ec5b0908086f2805b22661d5a/icon/79c5850ff8c87f45fa7a74f1259c558b.png?height=84&width=84', 'developer_link': 'https://apps.shopify.com/partners/developer-77e65bdbad7714d2', 'url': 'https://apps.shopify.com/ads', 'id': '404183ac-6d52-4960-85d2-8350f37c2f0b', 'reviews_count': 4245, 'rating': 4.9}\n",
      "Document: {'rating': 4.9, 'title': 'Quick Announcement Bar', 'reviews_count': 4237, 'developer': 'Hextom', 'developer_link': 'https://apps.shopify.com/partners/hextom', 'url': 'https://apps.shopify.com/quick-announcement-bar-always-keep-your-customers-informed', 'id': '0380c5ed-7b91-4d4b-9a4e-f6a1c50269dd', 'icon': 'https://apps.shopifycdn.com/listing_images/77da3bf776c31b1a438e4851b50758bb/icon/82be823ba7f1ec624a209c6fd622f23d.png?height=84&width=84'}\n"
     ]
    }
   ],
   "source": [
    "from google.cloud import firestore \n",
    "db = firestore.Client()\n",
    "\n",
    "app_ref = db.collection('apps')\n",
    "query = app_ref.where('reviews_count', '>', 2000).order_by('reviews_count', direction=firestore.Query.DESCENDING).limit(10)\n",
    "results = query.stream()\n",
    "\n",
    "for doc in results:\n",
    "    print('Document: ' + str(doc.to_dict()))"
   ]
  },
  {
   "cell_type": "code",
   "execution_count": null,
   "id": "c46a4ba5-41e0-409c-9129-bc0d76189539",
   "metadata": {},
   "outputs": [],
   "source": []
  }
 ],
 "metadata": {
  "environment": {
   "kernel": "python3",
   "name": "common-cpu.m87",
   "type": "gcloud",
   "uri": "gcr.io/deeplearning-platform-release/base-cpu:m87"
  },
  "kernelspec": {
   "display_name": "Python 3",
   "language": "python",
   "name": "python3"
  },
  "language_info": {
   "codemirror_mode": {
    "name": "ipython",
    "version": 3
   },
   "file_extension": ".py",
   "mimetype": "text/x-python",
   "name": "python",
   "nbconvert_exporter": "python",
   "pygments_lexer": "ipython3",
   "version": "3.7.12"
  }
 },
 "nbformat": 4,
 "nbformat_minor": 5
}
