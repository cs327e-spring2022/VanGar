{
 "cells": [
  {
   "cell_type": "code",
   "execution_count": null,
   "id": "ccf479fc-241d-425e-8a02-333134b09111",
   "metadata": {},
   "outputs": [],
   "source": [
    "%env CYPHER=/home/jupyter/neo4j-community-4.3.3/bin/cypher-shell\n",
    "%env USER=neo4j\n",
    "%env PW=vangar"
   ]
  },
  {
   "cell_type": "code",
   "execution_count": null,
   "id": "4fd2fc09-809d-47ff-b326-e5f184b1d077",
   "metadata": {},
   "outputs": [],
   "source": [
    "CONNECT=\"$CYPHER -u $USER -p $PW\""
   ]
  },
  {
   "cell_type": "code",
   "execution_count": null,
   "id": "46b87092-0a1b-4714-9e49-b0bd7822e0ee",
   "metadata": {},
   "outputs": [],
   "source": [
    "!$CONNECT \"MATCH (n) DETACH DELETE n\""
   ]
  },
  {
   "cell_type": "code",
   "execution_count": null,
   "id": "1cc37596-f33c-423b-bc96-283236fc0bc4",
   "metadata": {},
   "outputs": [],
   "source": [
    "!cat /home/jupyter/airbnb/load_data.cypher | {CONNECT} --format plain"
   ]
  },
  {
   "cell_type": "code",
   "execution_count": null,
   "id": "201994e8-80a2-444e-be2f-120e87c93375",
   "metadata": {},
   "outputs": [],
   "source": [
    "!{CONNECT} \"MATCH (n) RETURN distinct labels(n), count(n)\""
   ]
  },
  {
   "cell_type": "code",
   "execution_count": null,
   "id": "512563a9-0c79-4f86-909a-c78f75d39efe",
   "metadata": {},
   "outputs": [],
   "source": [
    "!{CONNECT} \"SHOW DATABASES\""
   ]
  },
  {
   "cell_type": "code",
   "execution_count": null,
   "id": "8e579605-9866-48cd-a666-9f489ff27b58",
   "metadata": {},
   "outputs": [],
   "source": [
    "!{CONNECT} \"MATCH (h:Host) RETURN h LIMIT 5\""
   ]
  },
  {
   "cell_type": "code",
   "execution_count": null,
   "id": "32b337dd-53cb-43ef-8041-835ed1aae4cc",
   "metadata": {},
   "outputs": [],
   "source": [
    "!{CONNECT} \"MATCH (l:Listing) RETURN l LIMIT 5\""
   ]
  },
  {
   "cell_type": "code",
   "execution_count": null,
   "id": "5797c04a-2d21-4c61-ae5a-49936c10146b",
   "metadata": {},
   "outputs": [],
   "source": [
    "!{CONNECT} \"MATCH (a:Amenity) RETURN a LIMIT 5\""
   ]
  },
  {
   "cell_type": "code",
   "execution_count": null,
   "id": "64b35125-601b-4d0f-a4e5-42d20b0cee61",
   "metadata": {},
   "outputs": [],
   "source": [
    "!{CONNECT} \"MATCH (n:Neighborhood) RETURN n LIMIT 5\""
   ]
  },
  {
   "cell_type": "code",
   "execution_count": null,
   "id": "e3f822af-bc03-4ef9-a63b-0903b033aeaf",
   "metadata": {},
   "outputs": [],
   "source": [
    "!{CONNECT} \"MATCH (u:User) RETURN u LIMIT 5\""
   ]
  },
  {
   "cell_type": "code",
   "execution_count": null,
   "id": "0d412e2b-f02f-44ac-8efa-6e02e3070796",
   "metadata": {},
   "outputs": [],
   "source": [
    "!{CONNECT} \"MATCH (r:Review) RETURN r LIMIT 5\""
   ]
  },
  {
   "cell_type": "code",
   "execution_count": null,
   "id": "33294926-53e6-446e-b6bf-7d8167a856ec",
   "metadata": {},
   "outputs": [],
   "source": [
    "!{CONNECT} \"MATCH (h: Host) WHERE h.location = 'Austin, Texas, United States' RETURN count(h)\""
   ]
  },
  {
   "cell_type": "code",
   "execution_count": null,
   "id": "11a1f489-5831-4fff-b2b3-005f159d31c2",
   "metadata": {},
   "outputs": [],
   "source": [
    "!{CONNECT} \"MATCH (l)<-[:HOSTS]-(h) WHERE h.host_id = '4641823' RETURN l.name, l.property_type, l.price, l.availability_365 ORDER BY l.price LIMIT 10\" "
   ]
  },
  {
   "cell_type": "code",
   "execution_count": null,
   "id": "59b2d736-1563-4dd1-b874-ac559cf528e1",
   "metadata": {},
   "outputs": [],
   "source": [
    "!{CONNECT} \"MATCH (l)<-[:REVIEWS]-(r)<-[:WROTE]-(u) WHERE l.listing_id = '5293632' RETURN u.user_id, u.name ORDER BY u.name LIMIT 10\" "
   ]
  },
  {
   "cell_type": "code",
   "execution_count": null,
   "id": "855140cc-395c-432a-84ea-2c38e1b68fe8",
   "metadata": {},
   "outputs": [],
   "source": [
    "!{CONNECT} \"MATCH (a)<-[:HAS]-(l)<-[:REVIEWS]-(r)<-[:WROTE]-(u) WHERE a.name = 'Washer / Dryer' RETURN u.user_id, u.name ORDER BY u.name LIMIT 10\""
   ]
  },
  {
   "cell_type": "code",
   "execution_count": null,
   "id": "bcc514fd-a7c6-434e-8802-5227f7c8e193",
   "metadata": {},
   "outputs": [],
   "source": [
    "!{CONNECT} \"MATCH (l:Listing)-[:IN_NEIGHBORHOOD]-(n:Neighborhood) WHERE n.neihgbourhood = 'Clarksville' RETURN l.name, l.property_type, l.price, l.availability_365 ORDER BY l.price LIMIT 5\""
   ]
  },
  {
   "cell_type": "code",
   "execution_count": null,
   "id": "78fb51fd-34c6-49ac-a963-fb5ea4560259",
   "metadata": {},
   "outputs": [],
   "source": [
    "!{CONNECT} \"MATCH (l) WHERE l.neihgbordhood = 'Clarksville' SET l.bedrooms = 3 RETURN l.name, l.property_type, l.price, l.availability_365 ORDER BY l.price LIMIT 5\""
   ]
  },
  {
   "cell_type": "code",
   "execution_count": null,
   "id": "e807189d-eae1-4496-bf9a-2b52453a17c0",
   "metadata": {},
   "outputs": [],
   "source": [
    "!{CONNECT} \"MATCH (a:Ammenity) RETURN a.name, count(a.name) ORDER BY count(a.name) DESC LIMIT 5\""
   ]
  },
  {
   "cell_type": "code",
   "execution_count": null,
   "id": "86e86b2c-49d1-44af-96f8-55d3b31ea1b0",
   "metadata": {},
   "outputs": [],
   "source": []
  }
 ],
 "metadata": {
  "environment": {
   "kernel": "python3",
   "name": "common-cpu.m87",
   "type": "gcloud",
   "uri": "gcr.io/deeplearning-platform-release/base-cpu:m87"
  },
  "kernelspec": {
   "display_name": "Python 3",
   "language": "python",
   "name": "python3"
  },
  "language_info": {
   "codemirror_mode": {
    "name": "ipython",
    "version": 3
   },
   "file_extension": ".py",
   "mimetype": "text/x-python",
   "name": "python",
   "nbconvert_exporter": "python",
   "pygments_lexer": "ipython3",
   "version": "3.7.12"
  }
 },
 "nbformat": 4,
 "nbformat_minor": 5
}
